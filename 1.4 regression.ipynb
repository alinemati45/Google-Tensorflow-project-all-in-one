{
  "nbformat": 4,
  "nbformat_minor": 0,
  "metadata": {
    "colab": {
      "name": "regression.ipynb",
      "provenance": [],
      "collapsed_sections": [],
      "toc_visible": true
    },
    "kernelspec": {
      "display_name": "Python 3",
      "name": "python3"
    }
  },
  "cells": [
    {
      "cell_type": "markdown",
      "metadata": {
        "id": "EIdT9iu_Z4Rb"
      },
      "source": [
        "# Basic regression: Predict fuel efficiency"
      ]
    },
    {
      "cell_type": "markdown",
      "metadata": {
        "id": "AHp3M9ZmrIxj"
      },
      "source": [
        "In a *regression* problem, the aim is to predict the output of a continuous value, like a price or a probability. Contrast this with a *classification* problem, where the aim is to select a class from a list of classes (for example, where a picture contains an apple or an orange, recognizing which fruit is in the picture).\n",
        "\n",
        "This tutorial uses the classic [Auto MPG](https://archive.ics.uci.edu/ml/datasets/auto+mpg) dataset and demonstrates how to build models to predict the fuel efficiency of the late-1970s and early 1980s automobiles. To do this, you will provide the models with a description of many automobiles from that time period. This description includes attributes like cylinders, displacement, horsepower, and weight.\n",
        "\n",
        "This example uses the Keras API. (Visit the Keras [tutorials](https://www.tensorflow.org/tutorials/keras) and [guides](https://www.tensorflow.org/guide/keras) to learn more.)"
      ]
    },
    {
      "cell_type": "code",
      "metadata": {
        "id": "moB4tpEHxKB3"
      },
      "source": [
        "# Use seaborn for pairplot.\n",
        "!pip install -q seaborn"
      ],
      "execution_count": 1,
      "outputs": []
    },
    {
      "cell_type": "code",
      "metadata": {
        "id": "1rRo8oNqZ-Rj"
      },
      "source": [
        "import matplotlib.pyplot as plt\n",
        "import numpy as np\n",
        "import pandas as pd\n",
        "import seaborn as sns\n",
        "\n",
        "# Make NumPy printouts easier to read.\n",
        "np.set_printoptions(precision=3, suppress=True)"
      ],
      "execution_count": 2,
      "outputs": []
    },
    {
      "cell_type": "code",
      "metadata": {
        "id": "9xQKvCJ85kCQ",
        "outputId": "91732741-0a8e-4e99-ebfa-aa3aa59027fc",
        "colab": {
          "base_uri": "https://localhost:8080/"
        }
      },
      "source": [
        "import tensorflow as tf\n",
        "\n",
        "from tensorflow import keras\n",
        "from tensorflow.keras import layers\n",
        "\n",
        "print(tf.__version__)\n",
        "print(keras.__version__)"
      ],
      "execution_count": 3,
      "outputs": [
        {
          "output_type": "stream",
          "name": "stdout",
          "text": [
            "2.7.0\n",
            "2.7.0\n"
          ]
        }
      ]
    },
    {
      "cell_type": "markdown",
      "metadata": {
        "id": "F_72b0LCNbjx"
      },
      "source": [
        "## The Auto MPG dataset\n",
        "\n",
        "The dataset is available from the [UCI Machine Learning Repository](https://archive.ics.uci.edu/ml/).\n"
      ]
    },
    {
      "cell_type": "markdown",
      "metadata": {
        "id": "gFh9ne3FZ-On"
      },
      "source": [
        "### Get the data\n",
        "First download and import the dataset using pandas:"
      ]
    },
    {
      "cell_type": "code",
      "metadata": {
        "id": "CiX2FI4gZtTt"
      },
      "source": [
        "url = 'http://archive.ics.uci.edu/ml/machine-learning-databases/auto-mpg/auto-mpg.data'\n",
        "column_names = ['MPG', 'Cylinders', 'Displacement', 'Horsepower', 'Weight', 'Acceleration', 'Model Year', 'Origin']\n",
        "\n",
        "raw_dataset = pd.read_csv(url, names=column_names,\n",
        "                          na_values='?', comment='\\t',\n",
        "                          sep=' ', skipinitialspace=True)"
      ],
      "execution_count": 4,
      "outputs": []
    },
    {
      "cell_type": "markdown",
      "metadata": {
        "id": "HJ1w5lLWeXJC"
      },
      "source": [
        "\n",
        "\n",
        "\n",
        "1. Title: Auto-Mpg Data\n",
        "\n",
        "2. Sources:\n",
        "   (a) Origin:  This dataset was taken from the StatLib library which is\n",
        "                maintained at Carnegie Mellon University. The dataset was \n",
        "                used in the 1983 American Statistical Association Exposition.\n",
        "   (c) Date: July 7, 1993\n",
        "\n",
        "3. Past Usage:\n",
        "    -  See 2b (above)\n",
        "    -  Quinlan,R. (1993). Combining Instance-Based and Model-Based Learning.\n",
        "       In Proceedings on the Tenth International Conference of Machine \n",
        "       Learning, 236-243, University of Massachusetts, Amherst. Morgan\n",
        "       Kaufmann.\n",
        "\n",
        "4. Relevant Information:\n",
        "\n",
        "   This dataset is a slightly modified version of the dataset provided in\n",
        "   the StatLib library.  In line with the use by Ross Quinlan (1993) in\n",
        "   predicting the attribute \"mpg\", 8 of the original instances were removed \n",
        "   because they had unknown values for the \"mpg\" attribute.  The original \n",
        "   dataset is available in the file \"auto-mpg.data-original\".\n",
        "\n",
        "   \"The data concerns city-cycle fuel consumption in miles per gallon,\n",
        "    to be predicted in terms of 3 multivalued discrete and 5 continuous\n",
        "    attributes.\" (Quinlan, 1993)\n",
        "\n",
        "5. Number of Instances: 398\n",
        "\n",
        "6. Number of Attributes: 9 including the class attribute\n",
        "\n",
        "7. Attribute Information:\n",
        "\n",
        "    1. mpg:           continuous\n",
        "    2. cylinders:     multi-valued discrete\n",
        "    3. displacement:  continuous\n",
        "    4. horsepower:    continuous\n",
        "    5. weight:        continuous\n",
        "    6. acceleration:  continuous\n",
        "    7. model year:    multi-valued discrete\n",
        "    8. origin:        multi-valued discrete\n",
        "    9. car name:      string (unique for each instance)\n",
        "\n",
        "8. Missing Attribute Values:  horsepower has 6 missing values\n",
        "\n"
      ]
    },
    {
      "cell_type": "code",
      "metadata": {
        "id": "2jYm2Vwzcj6a",
        "outputId": "4634996e-28f8-4569-d5e4-837ecc0c65ba",
        "colab": {
          "base_uri": "https://localhost:8080/",
          "height": 206
        }
      },
      "source": [
        "raw_dataset.head(5)"
      ],
      "execution_count": 5,
      "outputs": [
        {
          "output_type": "execute_result",
          "data": {
            "text/html": [
              "<div>\n",
              "<style scoped>\n",
              "    .dataframe tbody tr th:only-of-type {\n",
              "        vertical-align: middle;\n",
              "    }\n",
              "\n",
              "    .dataframe tbody tr th {\n",
              "        vertical-align: top;\n",
              "    }\n",
              "\n",
              "    .dataframe thead th {\n",
              "        text-align: right;\n",
              "    }\n",
              "</style>\n",
              "<table border=\"1\" class=\"dataframe\">\n",
              "  <thead>\n",
              "    <tr style=\"text-align: right;\">\n",
              "      <th></th>\n",
              "      <th>MPG</th>\n",
              "      <th>Cylinders</th>\n",
              "      <th>Displacement</th>\n",
              "      <th>Horsepower</th>\n",
              "      <th>Weight</th>\n",
              "      <th>Acceleration</th>\n",
              "      <th>Model Year</th>\n",
              "      <th>Origin</th>\n",
              "    </tr>\n",
              "  </thead>\n",
              "  <tbody>\n",
              "    <tr>\n",
              "      <th>0</th>\n",
              "      <td>18.0</td>\n",
              "      <td>8</td>\n",
              "      <td>307.0</td>\n",
              "      <td>130.0</td>\n",
              "      <td>3504.0</td>\n",
              "      <td>12.0</td>\n",
              "      <td>70</td>\n",
              "      <td>1</td>\n",
              "    </tr>\n",
              "    <tr>\n",
              "      <th>1</th>\n",
              "      <td>15.0</td>\n",
              "      <td>8</td>\n",
              "      <td>350.0</td>\n",
              "      <td>165.0</td>\n",
              "      <td>3693.0</td>\n",
              "      <td>11.5</td>\n",
              "      <td>70</td>\n",
              "      <td>1</td>\n",
              "    </tr>\n",
              "    <tr>\n",
              "      <th>2</th>\n",
              "      <td>18.0</td>\n",
              "      <td>8</td>\n",
              "      <td>318.0</td>\n",
              "      <td>150.0</td>\n",
              "      <td>3436.0</td>\n",
              "      <td>11.0</td>\n",
              "      <td>70</td>\n",
              "      <td>1</td>\n",
              "    </tr>\n",
              "    <tr>\n",
              "      <th>3</th>\n",
              "      <td>16.0</td>\n",
              "      <td>8</td>\n",
              "      <td>304.0</td>\n",
              "      <td>150.0</td>\n",
              "      <td>3433.0</td>\n",
              "      <td>12.0</td>\n",
              "      <td>70</td>\n",
              "      <td>1</td>\n",
              "    </tr>\n",
              "    <tr>\n",
              "      <th>4</th>\n",
              "      <td>17.0</td>\n",
              "      <td>8</td>\n",
              "      <td>302.0</td>\n",
              "      <td>140.0</td>\n",
              "      <td>3449.0</td>\n",
              "      <td>10.5</td>\n",
              "      <td>70</td>\n",
              "      <td>1</td>\n",
              "    </tr>\n",
              "  </tbody>\n",
              "</table>\n",
              "</div>"
            ],
            "text/plain": [
              "    MPG  Cylinders  Displacement  ...  Acceleration  Model Year  Origin\n",
              "0  18.0          8         307.0  ...          12.0          70       1\n",
              "1  15.0          8         350.0  ...          11.5          70       1\n",
              "2  18.0          8         318.0  ...          11.0          70       1\n",
              "3  16.0          8         304.0  ...          12.0          70       1\n",
              "4  17.0          8         302.0  ...          10.5          70       1\n",
              "\n",
              "[5 rows x 8 columns]"
            ]
          },
          "metadata": {},
          "execution_count": 5
        }
      ]
    },
    {
      "cell_type": "code",
      "metadata": {
        "id": "2oY3pMPagJrO",
        "outputId": "cc9002f1-02c3-4461-b3a5-9a67c0c60e7a",
        "colab": {
          "base_uri": "https://localhost:8080/",
          "height": 206
        }
      },
      "source": [
        "dataset = raw_dataset.copy()\n",
        "dataset.tail(5)"
      ],
      "execution_count": 6,
      "outputs": [
        {
          "output_type": "execute_result",
          "data": {
            "text/html": [
              "<div>\n",
              "<style scoped>\n",
              "    .dataframe tbody tr th:only-of-type {\n",
              "        vertical-align: middle;\n",
              "    }\n",
              "\n",
              "    .dataframe tbody tr th {\n",
              "        vertical-align: top;\n",
              "    }\n",
              "\n",
              "    .dataframe thead th {\n",
              "        text-align: right;\n",
              "    }\n",
              "</style>\n",
              "<table border=\"1\" class=\"dataframe\">\n",
              "  <thead>\n",
              "    <tr style=\"text-align: right;\">\n",
              "      <th></th>\n",
              "      <th>MPG</th>\n",
              "      <th>Cylinders</th>\n",
              "      <th>Displacement</th>\n",
              "      <th>Horsepower</th>\n",
              "      <th>Weight</th>\n",
              "      <th>Acceleration</th>\n",
              "      <th>Model Year</th>\n",
              "      <th>Origin</th>\n",
              "    </tr>\n",
              "  </thead>\n",
              "  <tbody>\n",
              "    <tr>\n",
              "      <th>393</th>\n",
              "      <td>27.0</td>\n",
              "      <td>4</td>\n",
              "      <td>140.0</td>\n",
              "      <td>86.0</td>\n",
              "      <td>2790.0</td>\n",
              "      <td>15.6</td>\n",
              "      <td>82</td>\n",
              "      <td>1</td>\n",
              "    </tr>\n",
              "    <tr>\n",
              "      <th>394</th>\n",
              "      <td>44.0</td>\n",
              "      <td>4</td>\n",
              "      <td>97.0</td>\n",
              "      <td>52.0</td>\n",
              "      <td>2130.0</td>\n",
              "      <td>24.6</td>\n",
              "      <td>82</td>\n",
              "      <td>2</td>\n",
              "    </tr>\n",
              "    <tr>\n",
              "      <th>395</th>\n",
              "      <td>32.0</td>\n",
              "      <td>4</td>\n",
              "      <td>135.0</td>\n",
              "      <td>84.0</td>\n",
              "      <td>2295.0</td>\n",
              "      <td>11.6</td>\n",
              "      <td>82</td>\n",
              "      <td>1</td>\n",
              "    </tr>\n",
              "    <tr>\n",
              "      <th>396</th>\n",
              "      <td>28.0</td>\n",
              "      <td>4</td>\n",
              "      <td>120.0</td>\n",
              "      <td>79.0</td>\n",
              "      <td>2625.0</td>\n",
              "      <td>18.6</td>\n",
              "      <td>82</td>\n",
              "      <td>1</td>\n",
              "    </tr>\n",
              "    <tr>\n",
              "      <th>397</th>\n",
              "      <td>31.0</td>\n",
              "      <td>4</td>\n",
              "      <td>119.0</td>\n",
              "      <td>82.0</td>\n",
              "      <td>2720.0</td>\n",
              "      <td>19.4</td>\n",
              "      <td>82</td>\n",
              "      <td>1</td>\n",
              "    </tr>\n",
              "  </tbody>\n",
              "</table>\n",
              "</div>"
            ],
            "text/plain": [
              "      MPG  Cylinders  Displacement  ...  Acceleration  Model Year  Origin\n",
              "393  27.0          4         140.0  ...          15.6          82       1\n",
              "394  44.0          4          97.0  ...          24.6          82       2\n",
              "395  32.0          4         135.0  ...          11.6          82       1\n",
              "396  28.0          4         120.0  ...          18.6          82       1\n",
              "397  31.0          4         119.0  ...          19.4          82       1\n",
              "\n",
              "[5 rows x 8 columns]"
            ]
          },
          "metadata": {},
          "execution_count": 6
        }
      ]
    },
    {
      "cell_type": "markdown",
      "metadata": {
        "id": "3MWuJTKEDM-f"
      },
      "source": [
        "### Clean the data\n",
        "\n",
        "The dataset contains a few unknown values:"
      ]
    },
    {
      "cell_type": "code",
      "metadata": {
        "id": "JEJHhN65a2VV",
        "outputId": "999d27d8-95f4-46c2-eab9-559e298e6e41",
        "colab": {
          "base_uri": "https://localhost:8080/"
        }
      },
      "source": [
        "dataset.isna().sum()"
      ],
      "execution_count": 7,
      "outputs": [
        {
          "output_type": "execute_result",
          "data": {
            "text/plain": [
              "MPG             0\n",
              "Cylinders       0\n",
              "Displacement    0\n",
              "Horsepower      6\n",
              "Weight          0\n",
              "Acceleration    0\n",
              "Model Year      0\n",
              "Origin          0\n",
              "dtype: int64"
            ]
          },
          "metadata": {},
          "execution_count": 7
        }
      ]
    },
    {
      "cell_type": "markdown",
      "metadata": {
        "id": "9UPN0KBHa_WI"
      },
      "source": [
        "Drop those rows to keep this initial tutorial simple:"
      ]
    },
    {
      "cell_type": "code",
      "metadata": {
        "id": "4ZUDosChC1UN",
        "outputId": "77fa1e84-8d80-40a8-cffc-657ea34302f9",
        "colab": {
          "base_uri": "https://localhost:8080/"
        }
      },
      "source": [
        "dataset = dataset.dropna()\n",
        "dataset.isna().sum()"
      ],
      "execution_count": 8,
      "outputs": [
        {
          "output_type": "execute_result",
          "data": {
            "text/plain": [
              "MPG             0\n",
              "Cylinders       0\n",
              "Displacement    0\n",
              "Horsepower      0\n",
              "Weight          0\n",
              "Acceleration    0\n",
              "Model Year      0\n",
              "Origin          0\n",
              "dtype: int64"
            ]
          },
          "metadata": {},
          "execution_count": 8
        }
      ]
    },
    {
      "cell_type": "markdown",
      "metadata": {
        "id": "8XKitwaH4v8h"
      },
      "source": [
        "The `\"Origin\"` column is categorical, not numeric. So the next step is to one-hot encode the values in the column with [pd.get_dummies](https://pandas.pydata.org/docs/reference/api/pandas.get_dummies.html).\n",
        "\n",
        "Note: You can set up the `tf.keras.Model` to do this kind of transformation for you but that's beyond the scope of this tutorial. Check out the [Classify structured data using Keras preprocessing layers](../structured_data/preprocessing_layers.ipynb) or [Load CSV data](../load_data/csv.ipynb) tutorials for examples."
      ]
    },
    {
      "cell_type": "code",
      "metadata": {
        "id": "EDnag5QcfTMD",
        "outputId": "b5b31cfc-71a5-4083-c4f0-44960ac67c5f",
        "colab": {
          "base_uri": "https://localhost:8080/"
        }
      },
      "source": [
        "dataset['Origin'].value_counts()"
      ],
      "execution_count": 9,
      "outputs": [
        {
          "output_type": "execute_result",
          "data": {
            "text/plain": [
              "1    245\n",
              "3     79\n",
              "2     68\n",
              "Name: Origin, dtype: int64"
            ]
          },
          "metadata": {},
          "execution_count": 9
        }
      ]
    },
    {
      "cell_type": "code",
      "metadata": {
        "id": "gWNTD2QjBWFJ",
        "outputId": "b2443e4f-2fd0-4082-c6dc-92c9655a6c24",
        "colab": {
          "base_uri": "https://localhost:8080/"
        }
      },
      "source": [
        "dataset['Origin'] = dataset['Origin'].map({1: 'USA', 2: 'Europe', 3: 'Japan'})\n",
        "dataset['Origin'].value_counts()"
      ],
      "execution_count": 10,
      "outputs": [
        {
          "output_type": "execute_result",
          "data": {
            "text/plain": [
              "USA       245\n",
              "Japan      79\n",
              "Europe     68\n",
              "Name: Origin, dtype: int64"
            ]
          },
          "metadata": {},
          "execution_count": 10
        }
      ]
    },
    {
      "cell_type": "code",
      "metadata": {
        "id": "ulXz4J7PAUzk",
        "outputId": "2e1c9fdf-d02d-4bed-d361-0e17e75d12b5",
        "colab": {
          "base_uri": "https://localhost:8080/",
          "height": 206
        }
      },
      "source": [
        "dataset = pd.get_dummies(dataset, columns=['Origin'], prefix='', prefix_sep='')\n",
        "dataset.tail()"
      ],
      "execution_count": 11,
      "outputs": [
        {
          "output_type": "execute_result",
          "data": {
            "text/html": [
              "<div>\n",
              "<style scoped>\n",
              "    .dataframe tbody tr th:only-of-type {\n",
              "        vertical-align: middle;\n",
              "    }\n",
              "\n",
              "    .dataframe tbody tr th {\n",
              "        vertical-align: top;\n",
              "    }\n",
              "\n",
              "    .dataframe thead th {\n",
              "        text-align: right;\n",
              "    }\n",
              "</style>\n",
              "<table border=\"1\" class=\"dataframe\">\n",
              "  <thead>\n",
              "    <tr style=\"text-align: right;\">\n",
              "      <th></th>\n",
              "      <th>MPG</th>\n",
              "      <th>Cylinders</th>\n",
              "      <th>Displacement</th>\n",
              "      <th>Horsepower</th>\n",
              "      <th>Weight</th>\n",
              "      <th>Acceleration</th>\n",
              "      <th>Model Year</th>\n",
              "      <th>Europe</th>\n",
              "      <th>Japan</th>\n",
              "      <th>USA</th>\n",
              "    </tr>\n",
              "  </thead>\n",
              "  <tbody>\n",
              "    <tr>\n",
              "      <th>393</th>\n",
              "      <td>27.0</td>\n",
              "      <td>4</td>\n",
              "      <td>140.0</td>\n",
              "      <td>86.0</td>\n",
              "      <td>2790.0</td>\n",
              "      <td>15.6</td>\n",
              "      <td>82</td>\n",
              "      <td>0</td>\n",
              "      <td>0</td>\n",
              "      <td>1</td>\n",
              "    </tr>\n",
              "    <tr>\n",
              "      <th>394</th>\n",
              "      <td>44.0</td>\n",
              "      <td>4</td>\n",
              "      <td>97.0</td>\n",
              "      <td>52.0</td>\n",
              "      <td>2130.0</td>\n",
              "      <td>24.6</td>\n",
              "      <td>82</td>\n",
              "      <td>1</td>\n",
              "      <td>0</td>\n",
              "      <td>0</td>\n",
              "    </tr>\n",
              "    <tr>\n",
              "      <th>395</th>\n",
              "      <td>32.0</td>\n",
              "      <td>4</td>\n",
              "      <td>135.0</td>\n",
              "      <td>84.0</td>\n",
              "      <td>2295.0</td>\n",
              "      <td>11.6</td>\n",
              "      <td>82</td>\n",
              "      <td>0</td>\n",
              "      <td>0</td>\n",
              "      <td>1</td>\n",
              "    </tr>\n",
              "    <tr>\n",
              "      <th>396</th>\n",
              "      <td>28.0</td>\n",
              "      <td>4</td>\n",
              "      <td>120.0</td>\n",
              "      <td>79.0</td>\n",
              "      <td>2625.0</td>\n",
              "      <td>18.6</td>\n",
              "      <td>82</td>\n",
              "      <td>0</td>\n",
              "      <td>0</td>\n",
              "      <td>1</td>\n",
              "    </tr>\n",
              "    <tr>\n",
              "      <th>397</th>\n",
              "      <td>31.0</td>\n",
              "      <td>4</td>\n",
              "      <td>119.0</td>\n",
              "      <td>82.0</td>\n",
              "      <td>2720.0</td>\n",
              "      <td>19.4</td>\n",
              "      <td>82</td>\n",
              "      <td>0</td>\n",
              "      <td>0</td>\n",
              "      <td>1</td>\n",
              "    </tr>\n",
              "  </tbody>\n",
              "</table>\n",
              "</div>"
            ],
            "text/plain": [
              "      MPG  Cylinders  Displacement  Horsepower  ...  Model Year  Europe  Japan  USA\n",
              "393  27.0          4         140.0        86.0  ...          82       0      0    1\n",
              "394  44.0          4          97.0        52.0  ...          82       1      0    0\n",
              "395  32.0          4         135.0        84.0  ...          82       0      0    1\n",
              "396  28.0          4         120.0        79.0  ...          82       0      0    1\n",
              "397  31.0          4         119.0        82.0  ...          82       0      0    1\n",
              "\n",
              "[5 rows x 10 columns]"
            ]
          },
          "metadata": {},
          "execution_count": 11
        }
      ]
    },
    {
      "cell_type": "markdown",
      "metadata": {
        "id": "Cuym4yvk76vU"
      },
      "source": [
        "### Split the data into training and test sets\n",
        "\n",
        "Now, split the dataset into a training set and a test set. You will use the test set in the final evaluation of your models."
      ]
    },
    {
      "cell_type": "code",
      "metadata": {
        "id": "qn-IGhUE7_1H"
      },
      "source": [
        "train_dataset = dataset.sample(frac=0.8, random_state=0)\n",
        "test_dataset = dataset.drop(train_dataset.index)"
      ],
      "execution_count": 12,
      "outputs": []
    },
    {
      "cell_type": "code",
      "metadata": {
        "id": "xJ1QJOCugrBx",
        "outputId": "3af49f57-e50f-473c-de83-f0c3a8261cc5",
        "colab": {
          "base_uri": "https://localhost:8080/"
        }
      },
      "source": [
        "train_dataset.shape, test_dataset.shape"
      ],
      "execution_count": 13,
      "outputs": [
        {
          "output_type": "execute_result",
          "data": {
            "text/plain": [
              "((314, 10), (78, 10))"
            ]
          },
          "metadata": {},
          "execution_count": 13
        }
      ]
    },
    {
      "cell_type": "markdown",
      "metadata": {
        "id": "J4ubs136WLNp"
      },
      "source": [
        "### Inspect the data\n",
        "\n",
        "Review the joint distribution of a few pairs of columns from the training set.\n",
        "\n",
        "The top row suggests that the fuel efficiency (MPG) is a function of all the other parameters. The other rows indicate they are functions of each other."
      ]
    },
    {
      "cell_type": "code",
      "metadata": {
        "id": "oRKO_x8gWKv-",
        "outputId": "0035e3c5-526d-4651-d017-2dcff9b9486c",
        "colab": {
          "base_uri": "https://localhost:8080/",
          "height": 726
        }
      },
      "source": [
        "sns.pairplot(train_dataset[['MPG', 'Cylinders', 'Displacement', 'Weight']], diag_kind='kde');"
      ],
      "execution_count": 14,
      "outputs": [
        {
          "output_type": "display_data",
          "data": {
            "image/png": "[encoded data removed]",
            "text/plain": [
              "<Figure size 720x720 with 20 Axes>"
            ]
          },
          "metadata": {
            "needs_background": "light"
          }
        }
      ]
    },
    {
      "cell_type": "markdown",
      "metadata": {
        "id": "gavKO_6DWRMP"
      },
      "source": [
        "Let's also check the overall statistics. Note how each feature covers a very different range:"
      ]
    },
    {
      "cell_type": "code",
      "metadata": {
        "id": "yi2FzC3T21jR",
        "outputId": "7bcd8131-f572-48a4-b108-97749d9463b4",
        "colab": {
          "base_uri": "https://localhost:8080/",
          "height": 363
        }
      },
      "source": [
        "train_dataset.describe().transpose()"
      ],
      "execution_count": 15,
      "outputs": [
        {
          "output_type": "execute_result",
          "data": {
            "text/html": [
              "<div>\n",
              "<style scoped>\n",
              "    .dataframe tbody tr th:only-of-type {\n",
              "        vertical-align: middle;\n",
              "    }\n",
              "\n",
              "    .dataframe tbody tr th {\n",
              "        vertical-align: top;\n",
              "    }\n",
              "\n",
              "    .dataframe thead th {\n",
              "        text-align: right;\n",
              "    }\n",
              "</style>\n",
              "<table border=\"1\" class=\"dataframe\">\n",
              "  <thead>\n",
              "    <tr style=\"text-align: right;\">\n",
              "      <th></th>\n",
              "      <th>count</th>\n",
              "      <th>mean</th>\n",
              "      <th>std</th>\n",
              "      <th>min</th>\n",
              "      <th>25%</th>\n",
              "      <th>50%</th>\n",
              "      <th>75%</th>\n",
              "      <th>max</th>\n",
              "    </tr>\n",
              "  </thead>\n",
              "  <tbody>\n",
              "    <tr>\n",
              "      <th>MPG</th>\n",
              "      <td>314.0</td>\n",
              "      <td>23.310510</td>\n",
              "      <td>7.728652</td>\n",
              "      <td>10.0</td>\n",
              "      <td>17.00</td>\n",
              "      <td>22.0</td>\n",
              "      <td>28.95</td>\n",
              "      <td>46.6</td>\n",
              "    </tr>\n",
              "    <tr>\n",
              "      <th>Cylinders</th>\n",
              "      <td>314.0</td>\n",
              "      <td>5.477707</td>\n",
              "      <td>1.699788</td>\n",
              "      <td>3.0</td>\n",
              "      <td>4.00</td>\n",
              "      <td>4.0</td>\n",
              "      <td>8.00</td>\n",
              "      <td>8.0</td>\n",
              "    </tr>\n",
              "    <tr>\n",
              "      <th>Displacement</th>\n",
              "      <td>314.0</td>\n",
              "      <td>195.318471</td>\n",
              "      <td>104.331589</td>\n",
              "      <td>68.0</td>\n",
              "      <td>105.50</td>\n",
              "      <td>151.0</td>\n",
              "      <td>265.75</td>\n",
              "      <td>455.0</td>\n",
              "    </tr>\n",
              "    <tr>\n",
              "      <th>Horsepower</th>\n",
              "      <td>314.0</td>\n",
              "      <td>104.869427</td>\n",
              "      <td>38.096214</td>\n",
              "      <td>46.0</td>\n",
              "      <td>76.25</td>\n",
              "      <td>94.5</td>\n",
              "      <td>128.00</td>\n",
              "      <td>225.0</td>\n",
              "    </tr>\n",
              "    <tr>\n",
              "      <th>Weight</th>\n",
              "      <td>314.0</td>\n",
              "      <td>2990.251592</td>\n",
              "      <td>843.898596</td>\n",
              "      <td>1649.0</td>\n",
              "      <td>2256.50</td>\n",
              "      <td>2822.5</td>\n",
              "      <td>3608.00</td>\n",
              "      <td>5140.0</td>\n",
              "    </tr>\n",
              "    <tr>\n",
              "      <th>Acceleration</th>\n",
              "      <td>314.0</td>\n",
              "      <td>15.559236</td>\n",
              "      <td>2.789230</td>\n",
              "      <td>8.0</td>\n",
              "      <td>13.80</td>\n",
              "      <td>15.5</td>\n",
              "      <td>17.20</td>\n",
              "      <td>24.8</td>\n",
              "    </tr>\n",
              "    <tr>\n",
              "      <th>Model Year</th>\n",
              "      <td>314.0</td>\n",
              "      <td>75.898089</td>\n",
              "      <td>3.675642</td>\n",
              "      <td>70.0</td>\n",
              "      <td>73.00</td>\n",
              "      <td>76.0</td>\n",
              "      <td>79.00</td>\n",
              "      <td>82.0</td>\n",
              "    </tr>\n",
              "    <tr>\n",
              "      <th>Europe</th>\n",
              "      <td>314.0</td>\n",
              "      <td>0.178344</td>\n",
              "      <td>0.383413</td>\n",
              "      <td>0.0</td>\n",
              "      <td>0.00</td>\n",
              "      <td>0.0</td>\n",
              "      <td>0.00</td>\n",
              "      <td>1.0</td>\n",
              "    </tr>\n",
              "    <tr>\n",
              "      <th>Japan</th>\n",
              "      <td>314.0</td>\n",
              "      <td>0.197452</td>\n",
              "      <td>0.398712</td>\n",
              "      <td>0.0</td>\n",
              "      <td>0.00</td>\n",
              "      <td>0.0</td>\n",
              "      <td>0.00</td>\n",
              "      <td>1.0</td>\n",
              "    </tr>\n",
              "    <tr>\n",
              "      <th>USA</th>\n",
              "      <td>314.0</td>\n",
              "      <td>0.624204</td>\n",
              "      <td>0.485101</td>\n",
              "      <td>0.0</td>\n",
              "      <td>0.00</td>\n",
              "      <td>1.0</td>\n",
              "      <td>1.00</td>\n",
              "      <td>1.0</td>\n",
              "    </tr>\n",
              "  </tbody>\n",
              "</table>\n",
              "</div>"
            ],
            "text/plain": [
              "              count         mean         std  ...     50%      75%     max\n",
              "MPG           314.0    23.310510    7.728652  ...    22.0    28.95    46.6\n",
              "Cylinders     314.0     5.477707    1.699788  ...     4.0     8.00     8.0\n",
              "Displacement  314.0   195.318471  104.331589  ...   151.0   265.75   455.0\n",
              "Horsepower    314.0   104.869427   38.096214  ...    94.5   128.00   225.0\n",
              "Weight        314.0  2990.251592  843.898596  ...  2822.5  3608.00  5140.0\n",
              "Acceleration  314.0    15.559236    2.789230  ...    15.5    17.20    24.8\n",
              "Model Year    314.0    75.898089    3.675642  ...    76.0    79.00    82.0\n",
              "Europe        314.0     0.178344    0.383413  ...     0.0     0.00     1.0\n",
              "Japan         314.0     0.197452    0.398712  ...     0.0     0.00     1.0\n",
              "USA           314.0     0.624204    0.485101  ...     1.0     1.00     1.0\n",
              "\n",
              "[10 rows x 8 columns]"
            ]
          },
          "metadata": {},
          "execution_count": 15
        }
      ]
    },
    {
      "cell_type": "code",
      "metadata": {
        "id": "HIOp5gSMh0Tb",
        "outputId": "3cb1b086-d0ee-4de7-a6cd-2a16a3400d76",
        "colab": {
          "base_uri": "https://localhost:8080/",
          "height": 363
        }
      },
      "source": [
        "test_dataset.describe().T"
      ],
      "execution_count": 16,
      "outputs": [
        {
          "output_type": "execute_result",
          "data": {
            "text/html": [
              "<div>\n",
              "<style scoped>\n",
              "    .dataframe tbody tr th:only-of-type {\n",
              "        vertical-align: middle;\n",
              "    }\n",
              "\n",
              "    .dataframe tbody tr th {\n",
              "        vertical-align: top;\n",
              "    }\n",
              "\n",
              "    .dataframe thead th {\n",
              "        text-align: right;\n",
              "    }\n",
              "</style>\n",
              "<table border=\"1\" class=\"dataframe\">\n",
              "  <thead>\n",
              "    <tr style=\"text-align: right;\">\n",
              "      <th></th>\n",
              "      <th>count</th>\n",
              "      <th>mean</th>\n",
              "      <th>std</th>\n",
              "      <th>min</th>\n",
              "      <th>25%</th>\n",
              "      <th>50%</th>\n",
              "      <th>75%</th>\n",
              "      <th>max</th>\n",
              "    </tr>\n",
              "  </thead>\n",
              "  <tbody>\n",
              "    <tr>\n",
              "      <th>MPG</th>\n",
              "      <td>78.0</td>\n",
              "      <td>23.991026</td>\n",
              "      <td>8.133563</td>\n",
              "      <td>9.0</td>\n",
              "      <td>18.00</td>\n",
              "      <td>24.00</td>\n",
              "      <td>29.875</td>\n",
              "      <td>44.3</td>\n",
              "    </tr>\n",
              "    <tr>\n",
              "      <th>Cylinders</th>\n",
              "      <td>78.0</td>\n",
              "      <td>5.448718</td>\n",
              "      <td>1.740633</td>\n",
              "      <td>3.0</td>\n",
              "      <td>4.00</td>\n",
              "      <td>4.00</td>\n",
              "      <td>8.000</td>\n",
              "      <td>8.0</td>\n",
              "    </tr>\n",
              "    <tr>\n",
              "      <th>Displacement</th>\n",
              "      <td>78.0</td>\n",
              "      <td>190.762821</td>\n",
              "      <td>106.494733</td>\n",
              "      <td>70.0</td>\n",
              "      <td>98.00</td>\n",
              "      <td>138.00</td>\n",
              "      <td>292.000</td>\n",
              "      <td>400.0</td>\n",
              "    </tr>\n",
              "    <tr>\n",
              "      <th>Horsepower</th>\n",
              "      <td>78.0</td>\n",
              "      <td>102.858974</td>\n",
              "      <td>40.255265</td>\n",
              "      <td>48.0</td>\n",
              "      <td>74.25</td>\n",
              "      <td>90.00</td>\n",
              "      <td>121.750</td>\n",
              "      <td>230.0</td>\n",
              "    </tr>\n",
              "    <tr>\n",
              "      <th>Weight</th>\n",
              "      <td>78.0</td>\n",
              "      <td>2926.589744</td>\n",
              "      <td>874.900416</td>\n",
              "      <td>1613.0</td>\n",
              "      <td>2159.50</td>\n",
              "      <td>2692.50</td>\n",
              "      <td>3706.500</td>\n",
              "      <td>4746.0</td>\n",
              "    </tr>\n",
              "    <tr>\n",
              "      <th>Acceleration</th>\n",
              "      <td>78.0</td>\n",
              "      <td>15.469231</td>\n",
              "      <td>2.649298</td>\n",
              "      <td>8.5</td>\n",
              "      <td>13.70</td>\n",
              "      <td>15.25</td>\n",
              "      <td>17.000</td>\n",
              "      <td>22.2</td>\n",
              "    </tr>\n",
              "    <tr>\n",
              "      <th>Model Year</th>\n",
              "      <td>78.0</td>\n",
              "      <td>76.307692</td>\n",
              "      <td>3.721847</td>\n",
              "      <td>70.0</td>\n",
              "      <td>73.00</td>\n",
              "      <td>76.00</td>\n",
              "      <td>79.750</td>\n",
              "      <td>82.0</td>\n",
              "    </tr>\n",
              "    <tr>\n",
              "      <th>Europe</th>\n",
              "      <td>78.0</td>\n",
              "      <td>0.153846</td>\n",
              "      <td>0.363137</td>\n",
              "      <td>0.0</td>\n",
              "      <td>0.00</td>\n",
              "      <td>0.00</td>\n",
              "      <td>0.000</td>\n",
              "      <td>1.0</td>\n",
              "    </tr>\n",
              "    <tr>\n",
              "      <th>Japan</th>\n",
              "      <td>78.0</td>\n",
              "      <td>0.217949</td>\n",
              "      <td>0.415525</td>\n",
              "      <td>0.0</td>\n",
              "      <td>0.00</td>\n",
              "      <td>0.00</td>\n",
              "      <td>0.000</td>\n",
              "      <td>1.0</td>\n",
              "    </tr>\n",
              "    <tr>\n",
              "      <th>USA</th>\n",
              "      <td>78.0</td>\n",
              "      <td>0.628205</td>\n",
              "      <td>0.486412</td>\n",
              "      <td>0.0</td>\n",
              "      <td>0.00</td>\n",
              "      <td>1.00</td>\n",
              "      <td>1.000</td>\n",
              "      <td>1.0</td>\n",
              "    </tr>\n",
              "  </tbody>\n",
              "</table>\n",
              "</div>"
            ],
            "text/plain": [
              "              count         mean         std  ...      50%       75%     max\n",
              "MPG            78.0    23.991026    8.133563  ...    24.00    29.875    44.3\n",
              "Cylinders      78.0     5.448718    1.740633  ...     4.00     8.000     8.0\n",
              "Displacement   78.0   190.762821  106.494733  ...   138.00   292.000   400.0\n",
              "Horsepower     78.0   102.858974   40.255265  ...    90.00   121.750   230.0\n",
              "Weight         78.0  2926.589744  874.900416  ...  2692.50  3706.500  4746.0\n",
              "Acceleration   78.0    15.469231    2.649298  ...    15.25    17.000    22.2\n",
              "Model Year     78.0    76.307692    3.721847  ...    76.00    79.750    82.0\n",
              "Europe         78.0     0.153846    0.363137  ...     0.00     0.000     1.0\n",
              "Japan          78.0     0.217949    0.415525  ...     0.00     0.000     1.0\n",
              "USA            78.0     0.628205    0.486412  ...     1.00     1.000     1.0\n",
              "\n",
              "[10 rows x 8 columns]"
            ]
          },
          "metadata": {},
          "execution_count": 16
        }
      ]
    },
    {
      "cell_type": "markdown",
      "metadata": {
        "id": "Db7Auq1yXUvh"
      },
      "source": [
        "### Split features from labels\n",
        "\n",
        "Separate the target value—the \"label\"—from the features. This label is the value that you will train the model to predict."
      ]
    },
    {
      "cell_type": "code",
      "metadata": {
        "id": "t2sluJdCW7jN"
      },
      "source": [
        "train_features = train_dataset.copy()\n",
        "test_features = test_dataset.copy()\n",
        "\n",
        "train_labels = train_features.pop('MPG')\n",
        "test_labels = test_features.pop('MPG')"
      ],
      "execution_count": 17,
      "outputs": []
    },
    {
      "cell_type": "markdown",
      "metadata": {
        "id": "mRklxK5s388r"
      },
      "source": [
        "## Normalization\n",
        "\n",
        "In the table of statistics it's easy to see how different the ranges of each feature are:"
      ]
    },
    {
      "cell_type": "code",
      "metadata": {
        "id": "IcmY6lKKbkw8",
        "outputId": "3f59f0c1-fb31-44b8-f5e3-accd46c828a7",
        "colab": {
          "base_uri": "https://localhost:8080/",
          "height": 363
        }
      },
      "source": [
        "train_dataset.describe().transpose()[['mean', 'std']]"
      ],
      "execution_count": 18,
      "outputs": [
        {
          "output_type": "execute_result",
          "data": {
            "text/html": [
              "<div>\n",
              "<style scoped>\n",
              "    .dataframe tbody tr th:only-of-type {\n",
              "        vertical-align: middle;\n",
              "    }\n",
              "\n",
              "    .dataframe tbody tr th {\n",
              "        vertical-align: top;\n",
              "    }\n",
              "\n",
              "    .dataframe thead th {\n",
              "        text-align: right;\n",
              "    }\n",
              "</style>\n",
              "<table border=\"1\" class=\"dataframe\">\n",
              "  <thead>\n",
              "    <tr style=\"text-align: right;\">\n",
              "      <th></th>\n",
              "      <th>mean</th>\n",
              "      <th>std</th>\n",
              "    </tr>\n",
              "  </thead>\n",
              "  <tbody>\n",
              "    <tr>\n",
              "      <th>MPG</th>\n",
              "      <td>23.310510</td>\n",
              "      <td>7.728652</td>\n",
              "    </tr>\n",
              "    <tr>\n",
              "      <th>Cylinders</th>\n",
              "      <td>5.477707</td>\n",
              "      <td>1.699788</td>\n",
              "    </tr>\n",
              "    <tr>\n",
              "      <th>Displacement</th>\n",
              "      <td>195.318471</td>\n",
              "      <td>104.331589</td>\n",
              "    </tr>\n",
              "    <tr>\n",
              "      <th>Horsepower</th>\n",
              "      <td>104.869427</td>\n",
              "      <td>38.096214</td>\n",
              "    </tr>\n",
              "    <tr>\n",
              "      <th>Weight</th>\n",
              "      <td>2990.251592</td>\n",
              "      <td>843.898596</td>\n",
              "    </tr>\n",
              "    <tr>\n",
              "      <th>Acceleration</th>\n",
              "      <td>15.559236</td>\n",
              "      <td>2.789230</td>\n",
              "    </tr>\n",
              "    <tr>\n",
              "      <th>Model Year</th>\n",
              "      <td>75.898089</td>\n",
              "      <td>3.675642</td>\n",
              "    </tr>\n",
              "    <tr>\n",
              "      <th>Europe</th>\n",
              "      <td>0.178344</td>\n",
              "      <td>0.383413</td>\n",
              "    </tr>\n",
              "    <tr>\n",
              "      <th>Japan</th>\n",
              "      <td>0.197452</td>\n",
              "      <td>0.398712</td>\n",
              "    </tr>\n",
              "    <tr>\n",
              "      <th>USA</th>\n",
              "      <td>0.624204</td>\n",
              "      <td>0.485101</td>\n",
              "    </tr>\n",
              "  </tbody>\n",
              "</table>\n",
              "</div>"
            ],
            "text/plain": [
              "                     mean         std\n",
              "MPG             23.310510    7.728652\n",
              "Cylinders        5.477707    1.699788\n",
              "Displacement   195.318471  104.331589\n",
              "Horsepower     104.869427   38.096214\n",
              "Weight        2990.251592  843.898596\n",
              "Acceleration    15.559236    2.789230\n",
              "Model Year      75.898089    3.675642\n",
              "Europe           0.178344    0.383413\n",
              "Japan            0.197452    0.398712\n",
              "USA              0.624204    0.485101"
            ]
          },
          "metadata": {},
          "execution_count": 18
        }
      ]
    },
    {
      "cell_type": "markdown",
      "metadata": {
        "id": "-ywmerQ6dSox"
      },
      "source": [
        "It is good practice to normalize features that use different scales and ranges.\n",
        "\n",
        "One reason this is important is because the features are multiplied by the model weights. So, the scale of the outputs and the scale of the gradients are affected by the scale of the inputs.\n",
        "\n",
        "Although a model *might* converge without feature normalization, normalization makes training much more stable.\n",
        "\n",
        "Note: There is no advantage to normalizing the one-hot features—it is done here for simplicity. For more details on how to use the preprocessing layers, refer to the [Working with preprocessing layers](https://www.tensorflow.org/guide/keras/preprocessing_layers) guide and the [Classify structured data using Keras preprocessing layers](../structured_data/preprocessing_layers.ipynb) tutorial."
      ]
    },
    {
      "cell_type": "markdown",
      "metadata": {
        "id": "aFJ6ISropeoo"
      },
      "source": [
        "### The Normalization layer\n",
        "\n",
        "The `tf.keras.layers.Normalization` is a clean and simple way to add feature normalization into your model.\n",
        "\n",
        "The first step is to create the layer:"
      ]
    },
    {
      "cell_type": "code",
      "metadata": {
        "id": "JlC5ooJrgjQF"
      },
      "source": [
        "normalizer = tf.keras.layers.Normalization(axis=-1)"
      ],
      "execution_count": 19,
      "outputs": []
    },
    {
      "cell_type": "markdown",
      "metadata": {
        "id": "XYA2Ap6nVOha"
      },
      "source": [
        "Then, fit the state of the preprocessing layer to the data by calling `Normalization.adapt`:"
      ]
    },
    {
      "cell_type": "code",
      "metadata": {
        "id": "CrBbbjbwV91f"
      },
      "source": [
        "normalizer.adapt(np.array(train_features))"
      ],
      "execution_count": 20,
      "outputs": []
    },
    {
      "cell_type": "markdown",
      "metadata": {
        "id": "oZccMR5yV9YV"
      },
      "source": [
        "Calculate the mean and variance, and store them in the layer:"
      ]
    },
    {
      "cell_type": "code",
      "metadata": {
        "id": "GGn-ukwxSPtx",
        "outputId": "b784dc36-547e-4513-c22b-3c809f9c5b2f",
        "colab": {
          "base_uri": "https://localhost:8080/"
        }
      },
      "source": [
        "print(normalizer.mean.numpy())"
      ],
      "execution_count": 21,
      "outputs": [
        {
          "output_type": "stream",
          "name": "stdout",
          "text": [
            "[[   5.478  195.318  104.869 2990.252   15.559   75.898    0.178    0.197\n",
            "     0.624]]\n"
          ]
        }
      ]
    },
    {
      "cell_type": "markdown",
      "metadata": {
        "id": "oGWKaF9GSRuN"
      },
      "source": [
        "When the layer is called, it returns the input data, with each feature independently normalized:"
      ]
    },
    {
      "cell_type": "code",
      "metadata": {
        "id": "2l7zFL_XWIRu",
        "outputId": "cf06b099-11a6-47b1-df0b-787321869922",
        "colab": {
          "base_uri": "https://localhost:8080/"
        }
      },
      "source": [
        "first = np.array(train_features[:1])\n",
        "\n",
        "with np.printoptions(precision=2, suppress=True):\n",
        "  print('First example:', first)\n",
        "  print()\n",
        "  print('Normalized:', normalizer(first).numpy())"
      ],
      "execution_count": 22,
      "outputs": [
        {
          "output_type": "stream",
          "name": "stdout",
          "text": [
            "First example: [[   4.    90.    75.  2125.    14.5   74.     0.     0.     1. ]]\n",
            "\n",
            "Normalized: [[-0.87 -1.01 -0.79 -1.03 -0.38 -0.52 -0.47 -0.5   0.78]]\n"
          ]
        }
      ]
    },
    {
      "cell_type": "markdown",
      "metadata": {
        "id": "6o3CrycBXA2s"
      },
      "source": [
        "## Linear regression\n",
        "\n",
        "Before building a deep neural network model, start with linear regression using one and several variables."
      ]
    },
    {
      "cell_type": "markdown",
      "metadata": {
        "id": "lFby9n0tnHkw"
      },
      "source": [
        "### Linear regression with one variable\n",
        "\n",
        "Begin with a single-variable linear regression to predict `'MPG'` from `'Horsepower'`.\n",
        "\n",
        "Training a model with `tf.keras` typically starts by defining the model architecture. Use a `tf.keras.Sequential` model, which [represents a sequence of steps](.././guide/keras/sequential_model.ipynb).\n",
        "\n",
        "There are two steps in your single-variable linear regression model:\n",
        "\n",
        "- Normalize the `'Horsepower'` input features using the `tf.keras.layers.Normalization` preprocessing layer.\n",
        "- Apply a linear transformation ($y = mx+b$) to produce 1 output using a linear layer (`tf.keras.layers.Dense`).\n",
        "\n",
        "The number of _inputs_ can either be set by the `input_shape` argument, or automatically when the model is run for the first time."
      ]
    },
    {
      "cell_type": "markdown",
      "metadata": {
        "id": "Xp3gAFn3TPv8"
      },
      "source": [
        "First, create a NumPy array made of the `'Horsepower'` features. Then, instantiate the `tf.keras.layers.Normalization` and fit its state to the `horsepower` data:"
      ]
    },
    {
      "cell_type": "code",
      "metadata": {
        "id": "1gJAy0fKs1TS"
      },
      "source": [
        "horsepower = np.array(train_features['Horsepower'])\n",
        "\n",
        "horsepower_normalizer = layers.Normalization(input_shape=[1,], axis=None)\n",
        "horsepower_normalizer.adapt(horsepower)"
      ],
      "execution_count": 23,
      "outputs": []
    },
    {
      "cell_type": "markdown",
      "metadata": {
        "id": "4NVlHJY2TWlC"
      },
      "source": [
        "Build the Keras Sequential model:"
      ]
    },
    {
      "cell_type": "code",
      "metadata": {
        "id": "c0sXM7qLlKfZ",
        "outputId": "1b27394b-a4ff-42ab-cbc5-bfe9c4ac03fb",
        "colab": {
          "base_uri": "https://localhost:8080/"
        }
      },
      "source": [
        "horsepower_model = tf.keras.Sequential([\n",
        "    horsepower_normalizer,\n",
        "    layers.Dense(units=1)\n",
        "])\n",
        "\n",
        "horsepower_model.summary()"
      ],
      "execution_count": 24,
      "outputs": [
        {
          "output_type": "stream",
          "name": "stdout",
          "text": [
            "Model: \"sequential\"\n",
            "_________________________________________________________________\n",
            " Layer (type)                Output Shape              Param #   \n",
            "=================================================================\n",
            " normalization_1 (Normalizat  (None, 1)                3         \n",
            " ion)                                                            \n",
            "                                                                 \n",
            " dense (Dense)               (None, 1)                 2         \n",
            "                                                                 \n",
            "=================================================================\n",
            "Total params: 5\n",
            "Trainable params: 2\n",
            "Non-trainable params: 3\n",
            "_________________________________________________________________\n"
          ]
        }
      ]
    },
    {
      "cell_type": "markdown",
      "metadata": {
        "id": "eObQu9fDnXGL"
      },
      "source": [
        "This model will predict `'MPG'` from `'Horsepower'`.\n",
        "\n",
        "Run the untrained model on the first 10 'Horsepower' values. The output won't be good, but notice that it has the expected shape of `(10, 1)`:"
      ]
    },
    {
      "cell_type": "code",
      "metadata": {
        "id": "UfV1HS6bns-s",
        "outputId": "fbe6d764-50c7-4cab-ca3d-db3f5564c698",
        "colab": {
          "base_uri": "https://localhost:8080/"
        }
      },
      "source": [
        "horsepower_model.predict(horsepower[:10])"
      ],
      "execution_count": 25,
      "outputs": [
        {
          "output_type": "execute_result",
          "data": {
            "text/plain": [
              "array([[-0.375],\n",
              "       [-0.212],\n",
              "       [ 0.692],\n",
              "       [-0.526],\n",
              "       [-0.475],\n",
              "       [-0.187],\n",
              "       [-0.563],\n",
              "       [-0.475],\n",
              "       [-0.124],\n",
              "       [-0.212]], dtype=float32)"
            ]
          },
          "metadata": {},
          "execution_count": 25
        }
      ]
    },
    {
      "cell_type": "markdown",
      "metadata": {
        "id": "CSkanJlmmFBX"
      },
      "source": [
        "Once the model is built, configure the training procedure using the Keras `Model.compile` method. The most important arguments to compile are the `loss` and the `optimizer`, since these define what will be optimized (`mean_absolute_error`) and how (using the `tf.keras.optimizers.Adam`)."
      ]
    },
    {
      "cell_type": "code",
      "metadata": {
        "id": "JxA_3lpOm-SK"
      },
      "source": [
        "horsepower_model.compile(\n",
        "    optimizer=tf.optimizers.Adam(learning_rate=0.1),\n",
        "    loss='mean_absolute_error')"
      ],
      "execution_count": 26,
      "outputs": []
    },
    {
      "cell_type": "markdown",
      "metadata": {
        "id": "Z3q1I9TwnRSC"
      },
      "source": [
        "Use Keras `Model.fit` to execute the training for 100 epochs:"
      ]
    },
    {
      "cell_type": "code",
      "metadata": {
        "id": "-iSrNy59nRAp",
        "outputId": "acc0829d-fea3-40b4-a607-7c5b56c1de07",
        "colab": {
          "base_uri": "https://localhost:8080/"
        }
      },
      "source": [
        "%%time\n",
        "history = horsepower_model.fit(\n",
        "    train_features['Horsepower'],\n",
        "    train_labels,\n",
        "    epochs=100,\n",
        "    # Suppress logging.\n",
        "    verbose=1,\n",
        "    # Calculate validation results on 20% of the training data.\n",
        "    validation_split = 0.2)"
      ],
      "execution_count": 27,
      "outputs": [
        {
          "output_type": "stream",
          "name": "stdout",
          "text": [
            "Epoch 1/100\n",
            "8/8 [==============================] - 1s 20ms/step - loss: 22.8703 - val_loss: 22.9356\n",
            "Epoch 2/100\n",
            "8/8 [==============================] - 0s 4ms/step - loss: 22.0650 - val_loss: 22.1359\n",
            "Epoch 3/100\n",
            "8/8 [==============================] - 0s 4ms/step - loss: 21.2610 - val_loss: 21.3359\n",
            "Epoch 4/100\n",
            "8/8 [==============================] - 0s 4ms/step - loss: 20.4627 - val_loss: 20.5357\n",
            "Epoch 5/100\n",
            "8/8 [==============================] - 0s 4ms/step - loss: 19.6659 - val_loss: 19.7360\n",
            "Epoch 6/100\n",
            "8/8 [==============================] - 0s 4ms/step - loss: 18.8609 - val_loss: 18.9359\n",
            "Epoch 7/100\n",
            "8/8 [==============================] - 0s 4ms/step - loss: 18.0641 - val_loss: 18.1357\n",
            "Epoch 8/100\n",
            "8/8 [==============================] - 0s 4ms/step - loss: 17.2629 - val_loss: 17.3357\n",
            "Epoch 9/100\n",
            "8/8 [==============================] - 0s 4ms/step - loss: 16.4620 - val_loss: 16.5359\n",
            "Epoch 10/100\n",
            "8/8 [==============================] - 0s 4ms/step - loss: 15.6616 - val_loss: 15.7359\n",
            "Epoch 11/100\n",
            "8/8 [==============================] - 0s 4ms/step - loss: 14.8612 - val_loss: 14.9359\n",
            "Epoch 12/100\n",
            "8/8 [==============================] - 0s 4ms/step - loss: 14.0609 - val_loss: 14.1359\n",
            "Epoch 13/100\n",
            "8/8 [==============================] - 0s 4ms/step - loss: 13.2684 - val_loss: 13.3408\n",
            "Epoch 14/100\n",
            "8/8 [==============================] - 0s 4ms/step - loss: 12.4893 - val_loss: 12.5674\n",
            "Epoch 15/100\n",
            "8/8 [==============================] - 0s 5ms/step - loss: 11.7081 - val_loss: 11.7898\n",
            "Epoch 16/100\n",
            "8/8 [==============================] - 0s 4ms/step - loss: 10.9417 - val_loss: 11.0019\n",
            "Epoch 17/100\n",
            "8/8 [==============================] - 0s 4ms/step - loss: 10.1469 - val_loss: 10.2252\n",
            "Epoch 18/100\n",
            "8/8 [==============================] - 0s 4ms/step - loss: 9.3717 - val_loss: 9.4542\n",
            "Epoch 19/100\n",
            "8/8 [==============================] - 0s 4ms/step - loss: 8.6410 - val_loss: 8.6986\n",
            "Epoch 20/100\n",
            "8/8 [==============================] - 0s 4ms/step - loss: 7.9333 - val_loss: 7.9577\n",
            "Epoch 21/100\n",
            "8/8 [==============================] - 0s 4ms/step - loss: 7.2427 - val_loss: 7.2455\n",
            "Epoch 22/100\n",
            "8/8 [==============================] - 0s 4ms/step - loss: 6.6131 - val_loss: 6.5927\n",
            "Epoch 23/100\n",
            "8/8 [==============================] - 0s 4ms/step - loss: 6.0279 - val_loss: 6.0147\n",
            "Epoch 24/100\n",
            "8/8 [==============================] - 0s 4ms/step - loss: 5.4984 - val_loss: 5.5939\n",
            "Epoch 25/100\n",
            "8/8 [==============================] - 0s 4ms/step - loss: 5.0713 - val_loss: 5.2463\n",
            "Epoch 26/100\n",
            "8/8 [==============================] - 0s 3ms/step - loss: 4.7545 - val_loss: 5.0026\n",
            "Epoch 27/100\n",
            "8/8 [==============================] - 0s 4ms/step - loss: 4.4912 - val_loss: 4.8228\n",
            "Epoch 28/100\n",
            "8/8 [==============================] - 0s 8ms/step - loss: 4.2977 - val_loss: 4.6553\n",
            "Epoch 29/100\n",
            "8/8 [==============================] - 0s 4ms/step - loss: 4.1301 - val_loss: 4.5500\n",
            "Epoch 30/100\n",
            "8/8 [==============================] - 0s 4ms/step - loss: 4.0289 - val_loss: 4.4752\n",
            "Epoch 31/100\n",
            "8/8 [==============================] - 0s 5ms/step - loss: 3.9531 - val_loss: 4.3883\n",
            "Epoch 32/100\n",
            "8/8 [==============================] - 0s 4ms/step - loss: 3.9000 - val_loss: 4.3435\n",
            "Epoch 33/100\n",
            "8/8 [==============================] - 0s 5ms/step - loss: 3.8603 - val_loss: 4.3031\n",
            "Epoch 34/100\n",
            "8/8 [==============================] - 0s 4ms/step - loss: 3.8418 - val_loss: 4.2431\n",
            "Epoch 35/100\n",
            "8/8 [==============================] - 0s 4ms/step - loss: 3.8272 - val_loss: 4.2246\n",
            "Epoch 36/100\n",
            "8/8 [==============================] - 0s 4ms/step - loss: 3.8231 - val_loss: 4.2422\n",
            "Epoch 37/100\n",
            "8/8 [==============================] - 0s 4ms/step - loss: 3.8128 - val_loss: 4.2216\n",
            "Epoch 38/100\n",
            "8/8 [==============================] - 0s 5ms/step - loss: 3.8073 - val_loss: 4.2087\n",
            "Epoch 39/100\n",
            "8/8 [==============================] - 0s 5ms/step - loss: 3.8074 - val_loss: 4.2153\n",
            "Epoch 40/100\n",
            "8/8 [==============================] - 0s 5ms/step - loss: 3.8049 - val_loss: 4.2064\n",
            "Epoch 41/100\n",
            "8/8 [==============================] - 0s 4ms/step - loss: 3.8060 - val_loss: 4.1833\n",
            "Epoch 42/100\n",
            "8/8 [==============================] - 0s 4ms/step - loss: 3.8062 - val_loss: 4.1874\n",
            "Epoch 43/100\n",
            "8/8 [==============================] - 0s 4ms/step - loss: 3.8055 - val_loss: 4.1900\n",
            "Epoch 44/100\n",
            "8/8 [==============================] - 0s 7ms/step - loss: 3.8078 - val_loss: 4.2091\n",
            "Epoch 45/100\n",
            "8/8 [==============================] - 0s 7ms/step - loss: 3.8026 - val_loss: 4.1914\n",
            "Epoch 46/100\n",
            "8/8 [==============================] - 0s 4ms/step - loss: 3.8044 - val_loss: 4.1887\n",
            "Epoch 47/100\n",
            "8/8 [==============================] - 0s 5ms/step - loss: 3.8060 - val_loss: 4.1727\n",
            "Epoch 48/100\n",
            "8/8 [==============================] - 0s 4ms/step - loss: 3.8059 - val_loss: 4.1810\n",
            "Epoch 49/100\n",
            "8/8 [==============================] - 0s 4ms/step - loss: 3.8024 - val_loss: 4.1943\n",
            "Epoch 50/100\n",
            "8/8 [==============================] - 0s 5ms/step - loss: 3.8054 - val_loss: 4.2159\n",
            "Epoch 51/100\n",
            "8/8 [==============================] - 0s 5ms/step - loss: 3.8047 - val_loss: 4.1911\n",
            "Epoch 52/100\n",
            "8/8 [==============================] - 0s 5ms/step - loss: 3.8028 - val_loss: 4.1958\n",
            "Epoch 53/100\n",
            "8/8 [==============================] - 0s 4ms/step - loss: 3.8068 - val_loss: 4.1843\n",
            "Epoch 54/100\n",
            "8/8 [==============================] - 0s 4ms/step - loss: 3.8036 - val_loss: 4.2091\n",
            "Epoch 55/100\n",
            "8/8 [==============================] - 0s 4ms/step - loss: 3.8057 - val_loss: 4.2088\n",
            "Epoch 56/100\n",
            "8/8 [==============================] - 0s 4ms/step - loss: 3.8057 - val_loss: 4.1743\n",
            "Epoch 57/100\n",
            "8/8 [==============================] - 0s 3ms/step - loss: 3.8053 - val_loss: 4.1918\n",
            "Epoch 58/100\n",
            "8/8 [==============================] - 0s 4ms/step - loss: 3.8040 - val_loss: 4.1980\n",
            "Epoch 59/100\n",
            "8/8 [==============================] - 0s 5ms/step - loss: 3.8026 - val_loss: 4.1841\n",
            "Epoch 60/100\n",
            "8/8 [==============================] - 0s 4ms/step - loss: 3.8030 - val_loss: 4.1840\n",
            "Epoch 61/100\n",
            "8/8 [==============================] - 0s 4ms/step - loss: 3.8036 - val_loss: 4.1975\n",
            "Epoch 62/100\n",
            "8/8 [==============================] - 0s 5ms/step - loss: 3.8035 - val_loss: 4.1924\n",
            "Epoch 63/100\n",
            "8/8 [==============================] - 0s 4ms/step - loss: 3.8059 - val_loss: 4.1700\n",
            "Epoch 64/100\n",
            "8/8 [==============================] - 0s 4ms/step - loss: 3.8058 - val_loss: 4.1899\n",
            "Epoch 65/100\n",
            "8/8 [==============================] - 0s 3ms/step - loss: 3.8090 - val_loss: 4.2146\n",
            "Epoch 66/100\n",
            "8/8 [==============================] - 0s 3ms/step - loss: 3.8058 - val_loss: 4.1848\n",
            "Epoch 67/100\n",
            "8/8 [==============================] - 0s 5ms/step - loss: 3.8033 - val_loss: 4.1877\n",
            "Epoch 68/100\n",
            "8/8 [==============================] - 0s 4ms/step - loss: 3.8062 - val_loss: 4.1840\n",
            "Epoch 69/100\n",
            "8/8 [==============================] - 0s 5ms/step - loss: 3.8040 - val_loss: 4.1982\n",
            "Epoch 70/100\n",
            "8/8 [==============================] - 0s 4ms/step - loss: 3.8046 - val_loss: 4.1821\n",
            "Epoch 71/100\n",
            "8/8 [==============================] - 0s 4ms/step - loss: 3.8045 - val_loss: 4.1930\n",
            "Epoch 72/100\n",
            "8/8 [==============================] - 0s 4ms/step - loss: 3.8049 - val_loss: 4.2015\n",
            "Epoch 73/100\n",
            "8/8 [==============================] - 0s 4ms/step - loss: 3.8027 - val_loss: 4.1916\n",
            "Epoch 74/100\n",
            "8/8 [==============================] - 0s 4ms/step - loss: 3.8087 - val_loss: 4.1911\n",
            "Epoch 75/100\n",
            "8/8 [==============================] - 0s 4ms/step - loss: 3.8018 - val_loss: 4.1839\n",
            "Epoch 76/100\n",
            "8/8 [==============================] - 0s 4ms/step - loss: 3.8048 - val_loss: 4.1812\n",
            "Epoch 77/100\n",
            "8/8 [==============================] - 0s 4ms/step - loss: 3.8023 - val_loss: 4.2018\n",
            "Epoch 78/100\n",
            "8/8 [==============================] - 0s 4ms/step - loss: 3.8095 - val_loss: 4.1851\n",
            "Epoch 79/100\n",
            "8/8 [==============================] - 0s 4ms/step - loss: 3.8097 - val_loss: 4.2153\n",
            "Epoch 80/100\n",
            "8/8 [==============================] - 0s 4ms/step - loss: 3.8069 - val_loss: 4.2124\n",
            "Epoch 81/100\n",
            "8/8 [==============================] - 0s 5ms/step - loss: 3.8005 - val_loss: 4.1693\n",
            "Epoch 82/100\n",
            "8/8 [==============================] - 0s 5ms/step - loss: 3.8051 - val_loss: 4.1676\n",
            "Epoch 83/100\n",
            "8/8 [==============================] - 0s 5ms/step - loss: 3.8058 - val_loss: 4.1666\n",
            "Epoch 84/100\n",
            "8/8 [==============================] - 0s 4ms/step - loss: 3.8078 - val_loss: 4.1740\n",
            "Epoch 85/100\n",
            "8/8 [==============================] - 0s 4ms/step - loss: 3.8029 - val_loss: 4.1968\n",
            "Epoch 86/100\n",
            "8/8 [==============================] - 0s 5ms/step - loss: 3.8034 - val_loss: 4.1868\n",
            "Epoch 87/100\n",
            "8/8 [==============================] - 0s 5ms/step - loss: 3.8079 - val_loss: 4.2164\n",
            "Epoch 88/100\n",
            "8/8 [==============================] - 0s 5ms/step - loss: 3.8034 - val_loss: 4.1924\n",
            "Epoch 89/100\n",
            "8/8 [==============================] - 0s 4ms/step - loss: 3.8056 - val_loss: 4.1649\n",
            "Epoch 90/100\n",
            "8/8 [==============================] - 0s 4ms/step - loss: 3.8037 - val_loss: 4.1781\n",
            "Epoch 91/100\n",
            "8/8 [==============================] - 0s 4ms/step - loss: 3.8026 - val_loss: 4.1970\n",
            "Epoch 92/100\n",
            "8/8 [==============================] - 0s 4ms/step - loss: 3.8056 - val_loss: 4.2069\n",
            "Epoch 93/100\n",
            "8/8 [==============================] - 0s 5ms/step - loss: 3.8084 - val_loss: 4.1684\n",
            "Epoch 94/100\n",
            "8/8 [==============================] - 0s 5ms/step - loss: 3.8080 - val_loss: 4.1943\n",
            "Epoch 95/100\n",
            "8/8 [==============================] - 0s 5ms/step - loss: 3.8030 - val_loss: 4.1899\n",
            "Epoch 96/100\n",
            "8/8 [==============================] - 0s 4ms/step - loss: 3.8071 - val_loss: 4.1861\n",
            "Epoch 97/100\n",
            "8/8 [==============================] - 0s 4ms/step - loss: 3.8054 - val_loss: 4.1613\n",
            "Epoch 98/100\n",
            "8/8 [==============================] - 0s 4ms/step - loss: 3.8053 - val_loss: 4.1851\n",
            "Epoch 99/100\n",
            "8/8 [==============================] - 0s 5ms/step - loss: 3.8031 - val_loss: 4.1917\n",
            "Epoch 100/100\n",
            "8/8 [==============================] - 0s 4ms/step - loss: 3.8022 - val_loss: 4.2048\n",
            "CPU times: user 3.79 s, sys: 267 ms, total: 4.06 s\n",
            "Wall time: 5.45 s\n"
          ]
        }
      ]
    },
    {
      "cell_type": "markdown",
      "metadata": {
        "id": "tQm3pc0FYPQB"
      },
      "source": [
        "Visualize the model's training progress using the stats stored in the `history` object:"
      ]
    },
    {
      "cell_type": "code",
      "metadata": {
        "id": "YCAwD_y4AdC3",
        "outputId": "f18b59b3-9cf4-4381-c297-0f45f77dec9a",
        "colab": {
          "base_uri": "https://localhost:8080/",
          "height": 206
        }
      },
      "source": [
        "hist = pd.DataFrame(history.history)\n",
        "hist['epoch'] = history.epoch\n",
        "hist.tail()"
      ],
      "execution_count": 28,
      "outputs": [
        {
          "output_type": "execute_result",
          "data": {
            "text/html": [
              "<div>\n",
              "<style scoped>\n",
              "    .dataframe tbody tr th:only-of-type {\n",
              "        vertical-align: middle;\n",
              "    }\n",
              "\n",
              "    .dataframe tbody tr th {\n",
              "        vertical-align: top;\n",
              "    }\n",
              "\n",
              "    .dataframe thead th {\n",
              "        text-align: right;\n",
              "    }\n",
              "</style>\n",
              "<table border=\"1\" class=\"dataframe\">\n",
              "  <thead>\n",
              "    <tr style=\"text-align: right;\">\n",
              "      <th></th>\n",
              "      <th>loss</th>\n",
              "      <th>val_loss</th>\n",
              "      <th>epoch</th>\n",
              "    </tr>\n",
              "  </thead>\n",
              "  <tbody>\n",
              "    <tr>\n",
              "      <th>95</th>\n",
              "      <td>3.807096</td>\n",
              "      <td>4.186105</td>\n",
              "      <td>95</td>\n",
              "    </tr>\n",
              "    <tr>\n",
              "      <th>96</th>\n",
              "      <td>3.805434</td>\n",
              "      <td>4.161265</td>\n",
              "      <td>96</td>\n",
              "    </tr>\n",
              "    <tr>\n",
              "      <th>97</th>\n",
              "      <td>3.805294</td>\n",
              "      <td>4.185075</td>\n",
              "      <td>97</td>\n",
              "    </tr>\n",
              "    <tr>\n",
              "      <th>98</th>\n",
              "      <td>3.803123</td>\n",
              "      <td>4.191683</td>\n",
              "      <td>98</td>\n",
              "    </tr>\n",
              "    <tr>\n",
              "      <th>99</th>\n",
              "      <td>3.802226</td>\n",
              "      <td>4.204756</td>\n",
              "      <td>99</td>\n",
              "    </tr>\n",
              "  </tbody>\n",
              "</table>\n",
              "</div>"
            ],
            "text/plain": [
              "        loss  val_loss  epoch\n",
              "95  3.807096  4.186105     95\n",
              "96  3.805434  4.161265     96\n",
              "97  3.805294  4.185075     97\n",
              "98  3.803123  4.191683     98\n",
              "99  3.802226  4.204756     99"
            ]
          },
          "metadata": {},
          "execution_count": 28
        }
      ]
    },
    {
      "cell_type": "code",
      "metadata": {
        "id": "9E54UoZunqhc"
      },
      "source": [
        "def plot_loss(history):\n",
        "  plt.plot(history.history['loss'], label='loss')\n",
        "  plt.plot(history.history['val_loss'], label='val_loss')\n",
        "  plt.ylim([0, 10])\n",
        "  plt.xlabel('Epoch')\n",
        "  plt.ylabel('Error [MPG]')\n",
        "  plt.legend()\n",
        "  plt.grid(True)"
      ],
      "execution_count": 29,
      "outputs": []
    },
    {
      "cell_type": "code",
      "metadata": {
        "id": "yYsQYrIZyqjz",
        "outputId": "c4896dd1-91cf-4a2f-d910-001a1165b8cc",
        "colab": {
          "base_uri": "https://localhost:8080/",
          "height": 283
        }
      },
      "source": [
        "plot_loss(history)"
      ],
      "execution_count": 30,
      "outputs": [
        {
          "output_type": "display_data",
          "data": {
            "image/png": "[encoded data removed]",
            "text/plain": [
              "<Figure size 432x288 with 1 Axes>"
            ]
          },
          "metadata": {
            "needs_background": "light"
          }
        }
      ]
    },
    {
      "cell_type": "markdown",
      "metadata": {
        "id": "CMNrt8X2ebXd"
      },
      "source": [
        "Collect the results on the test set for later:"
      ]
    },
    {
      "cell_type": "code",
      "metadata": {
        "id": "kDZ8EvNYrDtx"
      },
      "source": [
        "test_results = {}\n",
        "\n",
        "test_results['horsepower_model'] = horsepower_model.evaluate(\n",
        "    test_features['Horsepower'],\n",
        "    test_labels, verbose=0)"
      ],
      "execution_count": 31,
      "outputs": []
    },
    {
      "cell_type": "markdown",
      "metadata": {
        "id": "F0qutYAKwoda"
      },
      "source": [
        "Since this is a single variable regression, it's easy to view the model's predictions as a function of the input:"
      ]
    },
    {
      "cell_type": "code",
      "metadata": {
        "id": "xDS2JEtOn9Jn"
      },
      "source": [
        "x = tf.linspace(0.0, 250, 251)\n",
        "y = horsepower_model.predict(x)"
      ],
      "execution_count": 32,
      "outputs": []
    },
    {
      "cell_type": "code",
      "metadata": {
        "id": "rttFCTU8czsI"
      },
      "source": [
        "def plot_horsepower(x, y):\n",
        "  plt.scatter(train_features['Horsepower'], train_labels, label='Data')\n",
        "  plt.plot(x, y, color='k', label='Predictions')\n",
        "  plt.xlabel('Horsepower')\n",
        "  plt.ylabel('MPG')\n",
        "  plt.legend()"
      ],
      "execution_count": 33,
      "outputs": []
    },
    {
      "cell_type": "code",
      "metadata": {
        "id": "7l9ZiAOEUNBL",
        "outputId": "127778a7-4f0a-4c44-fd99-8067284f9d55",
        "colab": {
          "base_uri": "https://localhost:8080/",
          "height": 279
        }
      },
      "source": [
        "plot_horsepower(x,y)"
      ],
      "execution_count": 34,
      "outputs": [
        {
          "output_type": "display_data",
          "data": {
            "image/png": "[encoded data removed]",
            "text/plain": [
              "<Figure size 432x288 with 1 Axes>"
            ]
          },
          "metadata": {
            "needs_background": "light"
          }
        }
      ]
    },
    {
      "cell_type": "markdown",
      "metadata": {
        "id": "Yk2RmlqPoM9u"
      },
      "source": [
        "### Linear regression with multiple inputs"
      ]
    },
    {
      "cell_type": "markdown",
      "metadata": {
        "id": "PribnwDHUksC"
      },
      "source": [
        "You can use an almost identical setup to make predictions based on multiple inputs. This model still does the same $y = mx+b$ except that $m$ is a matrix and $b$ is a vector.\n",
        "\n",
        "Create a two-step Keras Sequential model again with the first layer being `normalizer` (`tf.keras.layers.Normalization(axis=-1)`) you defined earlier and adapted to the whole dataset:"
      ]
    },
    {
      "cell_type": "code",
      "metadata": {
        "id": "ssnVcKg7oMe6"
      },
      "source": [
        "linear_model = tf.keras.Sequential([\n",
        "    normalizer,\n",
        "    layers.Dense(units=1)\n",
        "])"
      ],
      "execution_count": 35,
      "outputs": []
    },
    {
      "cell_type": "markdown",
      "metadata": {
        "id": "IHlx6WeIWyAr"
      },
      "source": [
        "When you call `Model.predict` on a batch of inputs, it produces `units=1` outputs for each example:"
      ]
    },
    {
      "cell_type": "code",
      "metadata": {
        "id": "DynfJV18WiuT",
        "outputId": "7a137fee-a00c-4bd3-fc0d-e7d2ae4f6ec7",
        "colab": {
          "base_uri": "https://localhost:8080/"
        }
      },
      "source": [
        "linear_model.predict(train_features[:10])"
      ],
      "execution_count": 36,
      "outputs": [
        {
          "output_type": "execute_result",
          "data": {
            "text/plain": [
              "array([[-2.226],\n",
              "       [-0.886],\n",
              "       [ 1.438],\n",
              "       [-1.069],\n",
              "       [-1.325],\n",
              "       [ 0.496],\n",
              "       [-1.383],\n",
              "       [ 1.94 ],\n",
              "       [-0.329],\n",
              "       [-2.154]], dtype=float32)"
            ]
          },
          "metadata": {},
          "execution_count": 36
        }
      ]
    },
    {
      "cell_type": "markdown",
      "metadata": {
        "id": "hvHKH3rPXHmq"
      },
      "source": [
        "When you call the model, its weight matrices will be built—check that the `kernel` weights (the $m$ in $y=mx+b$) have a shape of `(9, 1)`:"
      ]
    },
    {
      "cell_type": "code",
      "metadata": {
        "id": "DwJ4Fq0RXBQf",
        "outputId": "d70bc7a1-068e-4358-9e34-6059919c0052",
        "colab": {
          "base_uri": "https://localhost:8080/"
        }
      },
      "source": [
        "linear_model.layers[1].kernel"
      ],
      "execution_count": 37,
      "outputs": [
        {
          "output_type": "execute_result",
          "data": {
            "text/plain": [
              "<tf.Variable 'dense_1/kernel:0' shape=(9, 1) dtype=float32, numpy=\n",
              "array([[ 0.664],\n",
              "       [ 0.736],\n",
              "       [-0.021],\n",
              "       [ 0.224],\n",
              "       [ 0.143],\n",
              "       [ 0.474],\n",
              "       [ 0.735],\n",
              "       [-0.202],\n",
              "       [-0.191]], dtype=float32)>"
            ]
          },
          "metadata": {},
          "execution_count": 37
        }
      ]
    },
    {
      "cell_type": "markdown",
      "metadata": {
        "id": "eINAc6rZXzOt"
      },
      "source": [
        "Configure the model with Keras `Model.compile` and train with `Model.fit` for 100 epochs:"
      ]
    },
    {
      "cell_type": "code",
      "metadata": {
        "id": "A0Sv_Ybr0szp"
      },
      "source": [
        "linear_model.compile(\n",
        "    optimizer=tf.optimizers.Adam(learning_rate=0.1),\n",
        "    loss='mean_absolute_error')"
      ],
      "execution_count": 38,
      "outputs": []
    },
    {
      "cell_type": "code",
      "metadata": {
        "id": "EZoOYORvoTSe",
        "outputId": "f3822587-afd7-474b-cb61-dcf122221f5d",
        "colab": {
          "base_uri": "https://localhost:8080/"
        }
      },
      "source": [
        "%%time\n",
        "history = linear_model.fit(\n",
        "    train_features,\n",
        "    train_labels,\n",
        "    epochs=100,\n",
        "    # Suppress logging.\n",
        "    verbose=1,\n",
        "    # Calculate validation results on 20% of the training data.\n",
        "    validation_split = 0.2)"
      ],
      "execution_count": 39,
      "outputs": [
        {
          "output_type": "stream",
          "name": "stdout",
          "text": [
            "Epoch 1/100\n",
            "8/8 [==============================] - 0s 20ms/step - loss: 22.9608 - val_loss: 22.8326\n",
            "Epoch 2/100\n",
            "8/8 [==============================] - 0s 4ms/step - loss: 22.0958 - val_loss: 22.1101\n",
            "Epoch 3/100\n",
            "8/8 [==============================] - 0s 4ms/step - loss: 21.2782 - val_loss: 21.3865\n",
            "Epoch 4/100\n",
            "8/8 [==============================] - 0s 5ms/step - loss: 20.4768 - val_loss: 20.6633\n",
            "Epoch 5/100\n",
            "8/8 [==============================] - 0s 4ms/step - loss: 19.6394 - val_loss: 19.9172\n",
            "Epoch 6/100\n",
            "8/8 [==============================] - 0s 5ms/step - loss: 18.8424 - val_loss: 19.2223\n",
            "Epoch 7/100\n",
            "8/8 [==============================] - 0s 4ms/step - loss: 18.0039 - val_loss: 18.4547\n",
            "Epoch 8/100\n",
            "8/8 [==============================] - 0s 4ms/step - loss: 17.1922 - val_loss: 17.7305\n",
            "Epoch 9/100\n",
            "8/8 [==============================] - 0s 4ms/step - loss: 16.3654 - val_loss: 17.0090\n",
            "Epoch 10/100\n",
            "8/8 [==============================] - 0s 4ms/step - loss: 15.5605 - val_loss: 16.3375\n",
            "Epoch 11/100\n",
            "8/8 [==============================] - 0s 4ms/step - loss: 14.7340 - val_loss: 15.6036\n",
            "Epoch 12/100\n",
            "8/8 [==============================] - 0s 4ms/step - loss: 13.9217 - val_loss: 14.8563\n",
            "Epoch 13/100\n",
            "8/8 [==============================] - 0s 4ms/step - loss: 13.1237 - val_loss: 14.1150\n",
            "Epoch 14/100\n",
            "8/8 [==============================] - 0s 5ms/step - loss: 12.3404 - val_loss: 13.3837\n",
            "Epoch 15/100\n",
            "8/8 [==============================] - 0s 4ms/step - loss: 11.5319 - val_loss: 12.7108\n",
            "Epoch 16/100\n",
            "8/8 [==============================] - 0s 6ms/step - loss: 10.7316 - val_loss: 11.9032\n",
            "Epoch 17/100\n",
            "8/8 [==============================] - 0s 4ms/step - loss: 9.9511 - val_loss: 11.1518\n",
            "Epoch 18/100\n",
            "8/8 [==============================] - 0s 4ms/step - loss: 9.1644 - val_loss: 10.4170\n",
            "Epoch 19/100\n",
            "8/8 [==============================] - 0s 4ms/step - loss: 8.4040 - val_loss: 9.7052\n",
            "Epoch 20/100\n",
            "8/8 [==============================] - 0s 3ms/step - loss: 7.6372 - val_loss: 8.9935\n",
            "Epoch 21/100\n",
            "8/8 [==============================] - 0s 4ms/step - loss: 6.9314 - val_loss: 8.3495\n",
            "Epoch 22/100\n",
            "8/8 [==============================] - 0s 4ms/step - loss: 6.3033 - val_loss: 7.6402\n",
            "Epoch 23/100\n",
            "8/8 [==============================] - 0s 4ms/step - loss: 5.7543 - val_loss: 6.9226\n",
            "Epoch 24/100\n",
            "8/8 [==============================] - 0s 4ms/step - loss: 5.2317 - val_loss: 6.4794\n",
            "Epoch 25/100\n",
            "8/8 [==============================] - 0s 4ms/step - loss: 4.7374 - val_loss: 5.8687\n",
            "Epoch 26/100\n",
            "8/8 [==============================] - 0s 5ms/step - loss: 4.3058 - val_loss: 5.1440\n",
            "Epoch 27/100\n",
            "8/8 [==============================] - 0s 4ms/step - loss: 3.8848 - val_loss: 4.4734\n",
            "Epoch 28/100\n",
            "8/8 [==============================] - 0s 4ms/step - loss: 3.4416 - val_loss: 3.9276\n",
            "Epoch 29/100\n",
            "8/8 [==============================] - 0s 4ms/step - loss: 3.0961 - val_loss: 3.3692\n",
            "Epoch 30/100\n",
            "8/8 [==============================] - 0s 4ms/step - loss: 2.8790 - val_loss: 3.1032\n",
            "Epoch 31/100\n",
            "8/8 [==============================] - 0s 4ms/step - loss: 2.7473 - val_loss: 2.8136\n",
            "Epoch 32/100\n",
            "8/8 [==============================] - 0s 4ms/step - loss: 2.6493 - val_loss: 2.7722\n",
            "Epoch 33/100\n",
            "8/8 [==============================] - 0s 4ms/step - loss: 2.5898 - val_loss: 2.6615\n",
            "Epoch 34/100\n",
            "8/8 [==============================] - 0s 5ms/step - loss: 2.5467 - val_loss: 2.6581\n",
            "Epoch 35/100\n",
            "8/8 [==============================] - 0s 4ms/step - loss: 2.5318 - val_loss: 2.6463\n",
            "Epoch 36/100\n",
            "8/8 [==============================] - 0s 4ms/step - loss: 2.5495 - val_loss: 2.5714\n",
            "Epoch 37/100\n",
            "8/8 [==============================] - 0s 4ms/step - loss: 2.5512 - val_loss: 2.5861\n",
            "Epoch 38/100\n",
            "8/8 [==============================] - 0s 4ms/step - loss: 2.5090 - val_loss: 2.5164\n",
            "Epoch 39/100\n",
            "8/8 [==============================] - 0s 5ms/step - loss: 2.5309 - val_loss: 2.5674\n",
            "Epoch 40/100\n",
            "8/8 [==============================] - 0s 4ms/step - loss: 2.4872 - val_loss: 2.4961\n",
            "Epoch 41/100\n",
            "8/8 [==============================] - 0s 4ms/step - loss: 2.4855 - val_loss: 2.4924\n",
            "Epoch 42/100\n",
            "8/8 [==============================] - 0s 5ms/step - loss: 2.5001 - val_loss: 2.5002\n",
            "Epoch 43/100\n",
            "8/8 [==============================] - 0s 5ms/step - loss: 2.4812 - val_loss: 2.5002\n",
            "Epoch 44/100\n",
            "8/8 [==============================] - 0s 4ms/step - loss: 2.4758 - val_loss: 2.5132\n",
            "Epoch 45/100\n",
            "8/8 [==============================] - 0s 4ms/step - loss: 2.4888 - val_loss: 2.4939\n",
            "Epoch 46/100\n",
            "8/8 [==============================] - 0s 4ms/step - loss: 2.4722 - val_loss: 2.4827\n",
            "Epoch 47/100\n",
            "8/8 [==============================] - 0s 4ms/step - loss: 2.4957 - val_loss: 2.5176\n",
            "Epoch 48/100\n",
            "8/8 [==============================] - 0s 4ms/step - loss: 2.4827 - val_loss: 2.4747\n",
            "Epoch 49/100\n",
            "8/8 [==============================] - 0s 4ms/step - loss: 2.4834 - val_loss: 2.4796\n",
            "Epoch 50/100\n",
            "8/8 [==============================] - 0s 4ms/step - loss: 2.4945 - val_loss: 2.4748\n",
            "Epoch 51/100\n",
            "8/8 [==============================] - 0s 5ms/step - loss: 2.4814 - val_loss: 2.4577\n",
            "Epoch 52/100\n",
            "8/8 [==============================] - 0s 5ms/step - loss: 2.4865 - val_loss: 2.5201\n",
            "Epoch 53/100\n",
            "8/8 [==============================] - 0s 4ms/step - loss: 2.4932 - val_loss: 2.4765\n",
            "Epoch 54/100\n",
            "8/8 [==============================] - 0s 5ms/step - loss: 2.4858 - val_loss: 2.4847\n",
            "Epoch 55/100\n",
            "8/8 [==============================] - 0s 4ms/step - loss: 2.4934 - val_loss: 2.4672\n",
            "Epoch 56/100\n",
            "8/8 [==============================] - 0s 5ms/step - loss: 2.4712 - val_loss: 2.4716\n",
            "Epoch 57/100\n",
            "8/8 [==============================] - 0s 5ms/step - loss: 2.4741 - val_loss: 2.4749\n",
            "Epoch 58/100\n",
            "8/8 [==============================] - 0s 4ms/step - loss: 2.4801 - val_loss: 2.4638\n",
            "Epoch 59/100\n",
            "8/8 [==============================] - 0s 4ms/step - loss: 2.5016 - val_loss: 2.5002\n",
            "Epoch 60/100\n",
            "8/8 [==============================] - 0s 4ms/step - loss: 2.4768 - val_loss: 2.4852\n",
            "Epoch 61/100\n",
            "8/8 [==============================] - 0s 4ms/step - loss: 2.4821 - val_loss: 2.4966\n",
            "Epoch 62/100\n",
            "8/8 [==============================] - 0s 4ms/step - loss: 2.5167 - val_loss: 2.4584\n",
            "Epoch 63/100\n",
            "8/8 [==============================] - 0s 5ms/step - loss: 2.4949 - val_loss: 2.4763\n",
            "Epoch 64/100\n",
            "8/8 [==============================] - 0s 5ms/step - loss: 2.4996 - val_loss: 2.4578\n",
            "Epoch 65/100\n",
            "8/8 [==============================] - 0s 4ms/step - loss: 2.4819 - val_loss: 2.4988\n",
            "Epoch 66/100\n",
            "8/8 [==============================] - 0s 3ms/step - loss: 2.4635 - val_loss: 2.4654\n",
            "Epoch 67/100\n",
            "8/8 [==============================] - 0s 4ms/step - loss: 2.4838 - val_loss: 2.5059\n",
            "Epoch 68/100\n",
            "8/8 [==============================] - 0s 4ms/step - loss: 2.4724 - val_loss: 2.4656\n",
            "Epoch 69/100\n",
            "8/8 [==============================] - 0s 7ms/step - loss: 2.4760 - val_loss: 2.4917\n",
            "Epoch 70/100\n",
            "8/8 [==============================] - 0s 4ms/step - loss: 2.4664 - val_loss: 2.4743\n",
            "Epoch 71/100\n",
            "8/8 [==============================] - 0s 4ms/step - loss: 2.4801 - val_loss: 2.4975\n",
            "Epoch 72/100\n",
            "8/8 [==============================] - 0s 4ms/step - loss: 2.4903 - val_loss: 2.4598\n",
            "Epoch 73/100\n",
            "8/8 [==============================] - 0s 4ms/step - loss: 2.4786 - val_loss: 2.4638\n",
            "Epoch 74/100\n",
            "8/8 [==============================] - 0s 5ms/step - loss: 2.4814 - val_loss: 2.4645\n",
            "Epoch 75/100\n",
            "8/8 [==============================] - 0s 4ms/step - loss: 2.4728 - val_loss: 2.5252\n",
            "Epoch 76/100\n",
            "8/8 [==============================] - 0s 5ms/step - loss: 2.4734 - val_loss: 2.4632\n",
            "Epoch 77/100\n",
            "8/8 [==============================] - 0s 4ms/step - loss: 2.4991 - val_loss: 2.5057\n",
            "Epoch 78/100\n",
            "8/8 [==============================] - 0s 4ms/step - loss: 2.4822 - val_loss: 2.5064\n",
            "Epoch 79/100\n",
            "8/8 [==============================] - 0s 5ms/step - loss: 2.4889 - val_loss: 2.4761\n",
            "Epoch 80/100\n",
            "8/8 [==============================] - 0s 4ms/step - loss: 2.4828 - val_loss: 2.5041\n",
            "Epoch 81/100\n",
            "8/8 [==============================] - 0s 4ms/step - loss: 2.4703 - val_loss: 2.5140\n",
            "Epoch 82/100\n",
            "8/8 [==============================] - 0s 4ms/step - loss: 2.4850 - val_loss: 2.4977\n",
            "Epoch 83/100\n",
            "8/8 [==============================] - 0s 5ms/step - loss: 2.4878 - val_loss: 2.4831\n",
            "Epoch 84/100\n",
            "8/8 [==============================] - 0s 4ms/step - loss: 2.4734 - val_loss: 2.4967\n",
            "Epoch 85/100\n",
            "8/8 [==============================] - 0s 5ms/step - loss: 2.4620 - val_loss: 2.4737\n",
            "Epoch 86/100\n",
            "8/8 [==============================] - 0s 4ms/step - loss: 2.4755 - val_loss: 2.4979\n",
            "Epoch 87/100\n",
            "8/8 [==============================] - 0s 4ms/step - loss: 2.4731 - val_loss: 2.4725\n",
            "Epoch 88/100\n",
            "8/8 [==============================] - 0s 4ms/step - loss: 2.4937 - val_loss: 2.4896\n",
            "Epoch 89/100\n",
            "8/8 [==============================] - 0s 4ms/step - loss: 2.4747 - val_loss: 2.4733\n",
            "Epoch 90/100\n",
            "8/8 [==============================] - 0s 4ms/step - loss: 2.4723 - val_loss: 2.4633\n",
            "Epoch 91/100\n",
            "8/8 [==============================] - 0s 4ms/step - loss: 2.4808 - val_loss: 2.4990\n",
            "Epoch 92/100\n",
            "8/8 [==============================] - 0s 5ms/step - loss: 2.4714 - val_loss: 2.4631\n",
            "Epoch 93/100\n",
            "8/8 [==============================] - 0s 5ms/step - loss: 2.4939 - val_loss: 2.4660\n",
            "Epoch 94/100\n",
            "8/8 [==============================] - 0s 5ms/step - loss: 2.4728 - val_loss: 2.5112\n",
            "Epoch 95/100\n",
            "8/8 [==============================] - 0s 4ms/step - loss: 2.4737 - val_loss: 2.4451\n",
            "Epoch 96/100\n",
            "8/8 [==============================] - 0s 5ms/step - loss: 2.4839 - val_loss: 2.4848\n",
            "Epoch 97/100\n",
            "8/8 [==============================] - 0s 4ms/step - loss: 2.4676 - val_loss: 2.4541\n",
            "Epoch 98/100\n",
            "8/8 [==============================] - 0s 5ms/step - loss: 2.4656 - val_loss: 2.4554\n",
            "Epoch 99/100\n",
            "8/8 [==============================] - 0s 5ms/step - loss: 2.4689 - val_loss: 2.4576\n",
            "Epoch 100/100\n",
            "8/8 [==============================] - 0s 5ms/step - loss: 2.4803 - val_loss: 2.4556\n",
            "CPU times: user 3.8 s, sys: 269 ms, total: 4.07 s\n",
            "Wall time: 5.42 s\n"
          ]
        }
      ]
    },
    {
      "cell_type": "markdown",
      "metadata": {
        "id": "EdxiCbiNYK2F"
      },
      "source": [
        "Using all the inputs in this regression model achieves a much lower training and validation error than the `horsepower_model`, which had one input:"
      ]
    },
    {
      "cell_type": "code",
      "metadata": {
        "id": "4sWO3W0koYgu",
        "outputId": "c9359d69-c6d9-4ca7-a65c-80855b339ee3",
        "colab": {
          "base_uri": "https://localhost:8080/",
          "height": 283
        }
      },
      "source": [
        "plot_loss(history)"
      ],
      "execution_count": 40,
      "outputs": [
        {
          "output_type": "display_data",
          "data": {
            "image/png": "[encoded data removed]",
            "text/plain": [
              "<Figure size 432x288 with 1 Axes>"
            ]
          },
          "metadata": {
            "needs_background": "light"
          }
        }
      ]
    },
    {
      "cell_type": "markdown",
      "metadata": {
        "id": "NyN49hIWe_NH"
      },
      "source": [
        "Collect the results on the test set for later:"
      ]
    },
    {
      "cell_type": "code",
      "metadata": {
        "id": "jNC3D1DGsGgK"
      },
      "source": [
        "test_results['linear_model'] = linear_model.evaluate(\n",
        "    test_features, test_labels, verbose=0)"
      ],
      "execution_count": 41,
      "outputs": []
    },
    {
      "cell_type": "markdown",
      "metadata": {
        "id": "SmjdzxKzEu1-"
      },
      "source": [
        "## Regression with a deep neural network (DNN)"
      ]
    },
    {
      "cell_type": "markdown",
      "metadata": {
        "id": "DT_aHPsrzO1t"
      },
      "source": [
        "In the previous section, you implemented two linear models for single and multiple inputs.\n",
        "\n",
        "Here, you will implement single-input and multiple-input DNN models.\n",
        "\n",
        "The code is basically the same except the model is expanded to include some \"hidden\" non-linear layers. The name \"hidden\" here just means not directly connected to the inputs or outputs."
      ]
    },
    {
      "cell_type": "markdown",
      "metadata": {
        "id": "6SWtkIjhrZwa"
      },
      "source": [
        "These models will contain a few more layers than the linear model:\n",
        "\n",
        "* The normalization layer, as before (with `horsepower_normalizer` for a single-input model and `normalizer` for a multiple-input model).\n",
        "* Two hidden, non-linear, `Dense` layers with the ReLU (`relu`) activation function nonlinearity.\n",
        "* A linear `Dense` single-output layer.\n",
        "\n",
        "Both models will use the same training procedure so the `compile` method is included in the `build_and_compile_model` function below."
      ]
    },
    {
      "cell_type": "code",
      "metadata": {
        "id": "c26juK7ZG8j-"
      },
      "source": [
        "def build_and_compile_model(norm):\n",
        "  model = keras.Sequential([\n",
        "      norm,\n",
        "      layers.Dense(64, activation='relu'),\n",
        "      layers.Dense(64, activation='relu'),\n",
        "      layers.Dense(1)\n",
        "  ])\n",
        "\n",
        "  model.compile(loss='mean_absolute_error',\n",
        "                optimizer=tf.keras.optimizers.Adam(0.001))\n",
        "  return model"
      ],
      "execution_count": 42,
      "outputs": []
    },
    {
      "cell_type": "markdown",
      "metadata": {
        "id": "6c51caebbc0d"
      },
      "source": [
        "### Regression using a DNN and a single input"
      ]
    },
    {
      "cell_type": "markdown",
      "metadata": {
        "id": "xvu9gtxTZR5V"
      },
      "source": [
        "Create a DNN model with only `'Horsepower'` as input and `horsepower_normalizer` (defined earlier) as the normalization layer:"
      ]
    },
    {
      "cell_type": "code",
      "metadata": {
        "id": "cGbPb-PHGbhs"
      },
      "source": [
        "dnn_horsepower_model = build_and_compile_model(horsepower_normalizer)"
      ],
      "execution_count": 43,
      "outputs": []
    },
    {
      "cell_type": "markdown",
      "metadata": {
        "id": "Sj49Og4YGULr"
      },
      "source": [
        "This model has quite a few more trainable parameters than the linear models:"
      ]
    },
    {
      "cell_type": "code",
      "metadata": {
        "id": "ReAD0n6MsFK-",
        "outputId": "107059a7-355e-4e45-87d1-723e02b618fd",
        "colab": {
          "base_uri": "https://localhost:8080/"
        }
      },
      "source": [
        "dnn_horsepower_model.summary()"
      ],
      "execution_count": 44,
      "outputs": [
        {
          "output_type": "stream",
          "name": "stdout",
          "text": [
            "Model: \"sequential_2\"\n",
            "_________________________________________________________________\n",
            " Layer (type)                Output Shape              Param #   \n",
            "=================================================================\n",
            " normalization_1 (Normalizat  (None, 1)                3         \n",
            " ion)                                                            \n",
            "                                                                 \n",
            " dense_2 (Dense)             (None, 64)                128       \n",
            "                                                                 \n",
            " dense_3 (Dense)             (None, 64)                4160      \n",
            "                                                                 \n",
            " dense_4 (Dense)             (None, 1)                 65        \n",
            "                                                                 \n",
            "=================================================================\n",
            "Total params: 4,356\n",
            "Trainable params: 4,353\n",
            "Non-trainable params: 3\n",
            "_________________________________________________________________\n"
          ]
        }
      ]
    },
    {
      "cell_type": "markdown",
      "metadata": {
        "id": "0-qWCsh6DlyH"
      },
      "source": [
        "Train the model with Keras `Model.fit`:"
      ]
    },
    {
      "cell_type": "code",
      "metadata": {
        "id": "sD7qHCmNIOY0",
        "outputId": "7e59ce3c-1d2e-4fda-8530-7409758d3b70",
        "colab": {
          "base_uri": "https://localhost:8080/"
        }
      },
      "source": [
        "%%time\n",
        "history = dnn_horsepower_model.fit(\n",
        "    train_features['Horsepower'],\n",
        "    train_labels,\n",
        "    validation_split=0.2,\n",
        "    verbose=1, epochs=100)"
      ],
      "execution_count": 45,
      "outputs": [
        {
          "output_type": "stream",
          "name": "stdout",
          "text": [
            "Epoch 1/100\n",
            "8/8 [==============================] - 0s 17ms/step - loss: 23.0818 - val_loss: 23.4835\n",
            "Epoch 2/100\n",
            "8/8 [==============================] - 0s 5ms/step - loss: 22.8898 - val_loss: 23.2716\n",
            "Epoch 3/100\n",
            "8/8 [==============================] - 0s 5ms/step - loss: 22.6733 - val_loss: 23.0181\n",
            "Epoch 4/100\n",
            "8/8 [==============================] - 0s 4ms/step - loss: 22.4040 - val_loss: 22.6872\n",
            "Epoch 5/100\n",
            "8/8 [==============================] - 0s 5ms/step - loss: 22.0432 - val_loss: 22.2385\n",
            "Epoch 6/100\n",
            "8/8 [==============================] - 0s 6ms/step - loss: 21.5548 - val_loss: 21.6281\n",
            "Epoch 7/100\n",
            "8/8 [==============================] - 0s 4ms/step - loss: 20.8964 - val_loss: 20.8280\n",
            "Epoch 8/100\n",
            "8/8 [==============================] - 0s 5ms/step - loss: 20.0471 - val_loss: 19.7958\n",
            "Epoch 9/100\n",
            "8/8 [==============================] - 0s 4ms/step - loss: 18.9389 - val_loss: 18.4940\n",
            "Epoch 10/100\n",
            "8/8 [==============================] - 0s 4ms/step - loss: 17.5734 - val_loss: 16.9814\n",
            "Epoch 11/100\n",
            "8/8 [==============================] - 0s 4ms/step - loss: 16.0928 - val_loss: 15.3181\n",
            "Epoch 12/100\n",
            "8/8 [==============================] - 0s 4ms/step - loss: 14.3761 - val_loss: 13.5551\n",
            "Epoch 13/100\n",
            "8/8 [==============================] - 0s 4ms/step - loss: 12.3853 - val_loss: 11.6498\n",
            "Epoch 14/100\n",
            "8/8 [==============================] - 0s 4ms/step - loss: 10.2486 - val_loss: 9.5654\n",
            "Epoch 15/100\n",
            "8/8 [==============================] - 0s 5ms/step - loss: 7.8888 - val_loss: 7.4851\n",
            "Epoch 16/100\n",
            "8/8 [==============================] - 0s 4ms/step - loss: 5.6503 - val_loss: 5.6888\n",
            "Epoch 17/100\n",
            "8/8 [==============================] - 0s 4ms/step - loss: 4.4020 - val_loss: 5.4269\n",
            "Epoch 18/100\n",
            "8/8 [==============================] - 0s 4ms/step - loss: 4.2324 - val_loss: 5.4170\n",
            "Epoch 19/100\n",
            "8/8 [==============================] - 0s 4ms/step - loss: 4.1789 - val_loss: 5.2026\n",
            "Epoch 20/100\n",
            "8/8 [==============================] - 0s 5ms/step - loss: 4.0559 - val_loss: 4.9752\n",
            "Epoch 21/100\n",
            "8/8 [==============================] - 0s 4ms/step - loss: 3.9746 - val_loss: 4.8815\n",
            "Epoch 22/100\n",
            "8/8 [==============================] - 0s 4ms/step - loss: 3.9219 - val_loss: 4.8301\n",
            "Epoch 23/100\n",
            "8/8 [==============================] - 0s 4ms/step - loss: 3.8727 - val_loss: 4.7767\n",
            "Epoch 24/100\n",
            "8/8 [==============================] - 0s 4ms/step - loss: 3.8272 - val_loss: 4.7247\n",
            "Epoch 25/100\n",
            "8/8 [==============================] - 0s 4ms/step - loss: 3.7830 - val_loss: 4.6595\n",
            "Epoch 26/100\n",
            "8/8 [==============================] - 0s 4ms/step - loss: 3.7481 - val_loss: 4.5865\n",
            "Epoch 27/100\n",
            "8/8 [==============================] - 0s 4ms/step - loss: 3.7264 - val_loss: 4.5303\n",
            "Epoch 28/100\n",
            "8/8 [==============================] - 0s 4ms/step - loss: 3.6937 - val_loss: 4.4772\n",
            "Epoch 29/100\n",
            "8/8 [==============================] - 0s 4ms/step - loss: 3.6681 - val_loss: 4.4276\n",
            "Epoch 30/100\n",
            "8/8 [==============================] - 0s 5ms/step - loss: 3.6426 - val_loss: 4.3872\n",
            "Epoch 31/100\n",
            "8/8 [==============================] - 0s 5ms/step - loss: 3.6195 - val_loss: 4.3458\n",
            "Epoch 32/100\n",
            "8/8 [==============================] - 0s 5ms/step - loss: 3.5999 - val_loss: 4.3040\n",
            "Epoch 33/100\n",
            "8/8 [==============================] - 0s 5ms/step - loss: 3.5739 - val_loss: 4.2682\n",
            "Epoch 34/100\n",
            "8/8 [==============================] - 0s 4ms/step - loss: 3.5643 - val_loss: 4.2298\n",
            "Epoch 35/100\n",
            "8/8 [==============================] - 0s 4ms/step - loss: 3.5391 - val_loss: 4.2114\n",
            "Epoch 36/100\n",
            "8/8 [==============================] - 0s 4ms/step - loss: 3.5298 - val_loss: 4.1871\n",
            "Epoch 37/100\n",
            "8/8 [==============================] - 0s 4ms/step - loss: 3.5225 - val_loss: 4.1534\n",
            "Epoch 38/100\n",
            "8/8 [==============================] - 0s 4ms/step - loss: 3.5070 - val_loss: 4.1411\n",
            "Epoch 39/100\n",
            "8/8 [==============================] - 0s 5ms/step - loss: 3.4838 - val_loss: 4.1128\n",
            "Epoch 40/100\n",
            "8/8 [==============================] - 0s 4ms/step - loss: 3.4770 - val_loss: 4.0971\n",
            "Epoch 41/100\n",
            "8/8 [==============================] - 0s 4ms/step - loss: 3.4672 - val_loss: 4.0758\n",
            "Epoch 42/100\n",
            "8/8 [==============================] - 0s 4ms/step - loss: 3.4535 - val_loss: 4.0569\n",
            "Epoch 43/100\n",
            "8/8 [==============================] - 0s 4ms/step - loss: 3.4399 - val_loss: 4.0413\n",
            "Epoch 44/100\n",
            "8/8 [==============================] - 0s 5ms/step - loss: 3.4339 - val_loss: 4.0288\n",
            "Epoch 45/100\n",
            "8/8 [==============================] - 0s 4ms/step - loss: 3.4174 - val_loss: 4.0061\n",
            "Epoch 46/100\n",
            "8/8 [==============================] - 0s 4ms/step - loss: 3.4089 - val_loss: 3.9971\n",
            "Epoch 47/100\n",
            "8/8 [==============================] - 0s 4ms/step - loss: 3.3966 - val_loss: 3.9819\n",
            "Epoch 48/100\n",
            "8/8 [==============================] - 0s 4ms/step - loss: 3.3897 - val_loss: 3.9661\n",
            "Epoch 49/100\n",
            "8/8 [==============================] - 0s 4ms/step - loss: 3.3815 - val_loss: 3.9595\n",
            "Epoch 50/100\n",
            "8/8 [==============================] - 0s 5ms/step - loss: 3.3790 - val_loss: 3.9406\n",
            "Epoch 51/100\n",
            "8/8 [==============================] - 0s 4ms/step - loss: 3.3690 - val_loss: 3.9343\n",
            "Epoch 52/100\n",
            "8/8 [==============================] - 0s 4ms/step - loss: 3.3613 - val_loss: 3.9274\n",
            "Epoch 53/100\n",
            "8/8 [==============================] - 0s 4ms/step - loss: 3.3615 - val_loss: 3.9127\n",
            "Epoch 54/100\n",
            "8/8 [==============================] - 0s 4ms/step - loss: 3.3485 - val_loss: 3.8937\n",
            "Epoch 55/100\n",
            "8/8 [==============================] - 0s 4ms/step - loss: 3.3394 - val_loss: 3.8903\n",
            "Epoch 56/100\n",
            "8/8 [==============================] - 0s 4ms/step - loss: 3.3400 - val_loss: 3.8839\n",
            "Epoch 57/100\n",
            "8/8 [==============================] - 0s 5ms/step - loss: 3.3334 - val_loss: 3.8852\n",
            "Epoch 58/100\n",
            "8/8 [==============================] - 0s 6ms/step - loss: 3.3369 - val_loss: 3.8610\n",
            "Epoch 59/100\n",
            "8/8 [==============================] - 0s 5ms/step - loss: 3.3212 - val_loss: 3.8484\n",
            "Epoch 60/100\n",
            "8/8 [==============================] - 0s 4ms/step - loss: 3.3280 - val_loss: 3.8451\n",
            "Epoch 61/100\n",
            "8/8 [==============================] - 0s 5ms/step - loss: 3.3176 - val_loss: 3.8584\n",
            "Epoch 62/100\n",
            "8/8 [==============================] - 0s 4ms/step - loss: 3.3160 - val_loss: 3.8405\n",
            "Epoch 63/100\n",
            "8/8 [==============================] - 0s 5ms/step - loss: 3.3056 - val_loss: 3.8219\n",
            "Epoch 64/100\n",
            "8/8 [==============================] - 0s 4ms/step - loss: 3.3042 - val_loss: 3.8185\n",
            "Epoch 65/100\n",
            "8/8 [==============================] - 0s 5ms/step - loss: 3.2958 - val_loss: 3.8247\n",
            "Epoch 66/100\n",
            "8/8 [==============================] - 0s 4ms/step - loss: 3.3008 - val_loss: 3.8036\n",
            "Epoch 67/100\n",
            "8/8 [==============================] - 0s 5ms/step - loss: 3.2897 - val_loss: 3.8005\n",
            "Epoch 68/100\n",
            "8/8 [==============================] - 0s 5ms/step - loss: 3.2859 - val_loss: 3.7978\n",
            "Epoch 69/100\n",
            "8/8 [==============================] - 0s 5ms/step - loss: 3.2821 - val_loss: 3.7978\n",
            "Epoch 70/100\n",
            "8/8 [==============================] - 0s 4ms/step - loss: 3.2894 - val_loss: 3.8007\n",
            "Epoch 71/100\n",
            "8/8 [==============================] - 0s 4ms/step - loss: 3.2849 - val_loss: 3.7847\n",
            "Epoch 72/100\n",
            "8/8 [==============================] - 0s 4ms/step - loss: 3.2794 - val_loss: 3.7819\n",
            "Epoch 73/100\n",
            "8/8 [==============================] - 0s 4ms/step - loss: 3.2799 - val_loss: 3.7993\n",
            "Epoch 74/100\n",
            "8/8 [==============================] - 0s 5ms/step - loss: 3.2847 - val_loss: 3.7852\n",
            "Epoch 75/100\n",
            "8/8 [==============================] - 0s 4ms/step - loss: 3.2783 - val_loss: 3.7753\n",
            "Epoch 76/100\n",
            "8/8 [==============================] - 0s 4ms/step - loss: 3.2819 - val_loss: 3.7913\n",
            "Epoch 77/100\n",
            "8/8 [==============================] - 0s 4ms/step - loss: 3.2721 - val_loss: 3.7789\n",
            "Epoch 78/100\n",
            "8/8 [==============================] - 0s 4ms/step - loss: 3.2743 - val_loss: 3.7798\n",
            "Epoch 79/100\n",
            "8/8 [==============================] - 0s 4ms/step - loss: 3.2745 - val_loss: 3.7916\n",
            "Epoch 80/100\n",
            "8/8 [==============================] - 0s 5ms/step - loss: 3.2755 - val_loss: 3.7739\n",
            "Epoch 81/100\n",
            "8/8 [==============================] - 0s 4ms/step - loss: 3.2764 - val_loss: 3.8047\n",
            "Epoch 82/100\n",
            "8/8 [==============================] - 0s 4ms/step - loss: 3.2777 - val_loss: 3.7919\n",
            "Epoch 83/100\n",
            "8/8 [==============================] - 0s 4ms/step - loss: 3.2718 - val_loss: 3.7836\n",
            "Epoch 84/100\n",
            "8/8 [==============================] - 0s 4ms/step - loss: 3.2802 - val_loss: 3.7723\n",
            "Epoch 85/100\n",
            "8/8 [==============================] - 0s 4ms/step - loss: 3.2732 - val_loss: 3.8042\n",
            "Epoch 86/100\n",
            "8/8 [==============================] - 0s 5ms/step - loss: 3.2686 - val_loss: 3.7821\n",
            "Epoch 87/100\n",
            "8/8 [==============================] - 0s 4ms/step - loss: 3.2650 - val_loss: 3.7794\n",
            "Epoch 88/100\n",
            "8/8 [==============================] - 0s 5ms/step - loss: 3.2635 - val_loss: 3.7769\n",
            "Epoch 89/100\n",
            "8/8 [==============================] - 0s 4ms/step - loss: 3.2609 - val_loss: 3.7813\n",
            "Epoch 90/100\n",
            "8/8 [==============================] - 0s 4ms/step - loss: 3.2720 - val_loss: 3.7825\n",
            "Epoch 91/100\n",
            "8/8 [==============================] - 0s 4ms/step - loss: 3.2623 - val_loss: 3.7953\n",
            "Epoch 92/100\n",
            "8/8 [==============================] - 0s 5ms/step - loss: 3.2676 - val_loss: 3.7924\n",
            "Epoch 93/100\n",
            "8/8 [==============================] - 0s 4ms/step - loss: 3.2643 - val_loss: 3.7735\n",
            "Epoch 94/100\n",
            "8/8 [==============================] - 0s 4ms/step - loss: 3.2634 - val_loss: 3.7794\n",
            "Epoch 95/100\n",
            "8/8 [==============================] - 0s 5ms/step - loss: 3.2616 - val_loss: 3.7735\n",
            "Epoch 96/100\n",
            "8/8 [==============================] - 0s 5ms/step - loss: 3.2598 - val_loss: 3.7947\n",
            "Epoch 97/100\n",
            "8/8 [==============================] - 0s 6ms/step - loss: 3.2555 - val_loss: 3.7845\n",
            "Epoch 98/100\n",
            "8/8 [==============================] - 0s 5ms/step - loss: 3.2598 - val_loss: 3.7710\n",
            "Epoch 99/100\n",
            "8/8 [==============================] - 0s 5ms/step - loss: 3.2687 - val_loss: 3.7979\n",
            "Epoch 100/100\n",
            "8/8 [==============================] - 0s 4ms/step - loss: 3.2520 - val_loss: 3.7729\n",
            "CPU times: user 4.02 s, sys: 287 ms, total: 4.31 s\n",
            "Wall time: 4.24 s\n"
          ]
        }
      ]
    },
    {
      "cell_type": "markdown",
      "metadata": {
        "id": "dArGGxHxcKjN"
      },
      "source": [
        "This model does slightly better than the linear single-input `horsepower_model`:"
      ]
    },
    {
      "cell_type": "code",
      "metadata": {
        "id": "NcF6UWjdCU8T",
        "outputId": "87cf9971-523b-457b-f612-194cd98f6f29",
        "colab": {
          "base_uri": "https://localhost:8080/",
          "height": 283
        }
      },
      "source": [
        "plot_loss(history)"
      ],
      "execution_count": 46,
      "outputs": [
        {
          "output_type": "display_data",
          "data": {
            "image/png": "[encoded data removed]",
            "text/plain": [
              "<Figure size 432x288 with 1 Axes>"
            ]
          },
          "metadata": {
            "needs_background": "light"
          }
        }
      ]
    },
    {
      "cell_type": "markdown",
      "metadata": {
        "id": "TG1snlpR2QCK"
      },
      "source": [
        "If you plot the predictions as a function of `'Horsepower'`, you should notice how this model takes advantage of the nonlinearity provided by the hidden layers:"
      ]
    },
    {
      "cell_type": "code",
      "metadata": {
        "id": "hPF53Rem14NS"
      },
      "source": [
        "x = tf.linspace(0.0, 250, 251)\n",
        "y = dnn_horsepower_model.predict(x)"
      ],
      "execution_count": 47,
      "outputs": []
    },
    {
      "cell_type": "code",
      "metadata": {
        "id": "rsf9rD8I17Wq",
        "outputId": "baa5d963-1541-4bfa-b952-7a122df8f871",
        "colab": {
          "base_uri": "https://localhost:8080/",
          "height": 279
        }
      },
      "source": [
        "plot_horsepower(x, y)"
      ],
      "execution_count": 48,
      "outputs": [
        {
          "output_type": "display_data",
          "data": {
            "image/png": "[encoded data removed]",
            "text/plain": [
              "<Figure size 432x288 with 1 Axes>"
            ]
          },
          "metadata": {
            "needs_background": "light"
          }
        }
      ]
    },
    {
      "cell_type": "markdown",
      "metadata": {
        "id": "WxCJKIUpe4io"
      },
      "source": [
        "Collect the results on the test set for later:"
      ]
    },
    {
      "cell_type": "code",
      "metadata": {
        "id": "bJjM0dU52XtN"
      },
      "source": [
        "test_results['dnn_horsepower_model'] = dnn_horsepower_model.evaluate(\n",
        "    test_features['Horsepower'], test_labels,\n",
        "    verbose=0)"
      ],
      "execution_count": 49,
      "outputs": []
    },
    {
      "cell_type": "markdown",
      "metadata": {
        "id": "S_2Btebp2e64"
      },
      "source": [
        "### Regression using a DNN and multiple inputs"
      ]
    },
    {
      "cell_type": "markdown",
      "metadata": {
        "id": "aKFtezDldLSf"
      },
      "source": [
        "Repeat the previous process using all the inputs. The model's performance slightly improves on the validation dataset."
      ]
    },
    {
      "cell_type": "code",
      "metadata": {
        "id": "c0mhscXh2k36",
        "outputId": "032f9ba8-d199-4978-895c-5055c9334ea1",
        "colab": {
          "base_uri": "https://localhost:8080/"
        }
      },
      "source": [
        "dnn_model = build_and_compile_model(normalizer)\n",
        "dnn_model.summary()"
      ],
      "execution_count": 50,
      "outputs": [
        {
          "output_type": "stream",
          "name": "stdout",
          "text": [
            "Model: \"sequential_3\"\n",
            "_________________________________________________________________\n",
            " Layer (type)                Output Shape              Param #   \n",
            "=================================================================\n",
            " normalization (Normalizatio  (None, 9)                19        \n",
            " n)                                                              \n",
            "                                                                 \n",
            " dense_5 (Dense)             (None, 64)                640       \n",
            "                                                                 \n",
            " dense_6 (Dense)             (None, 64)                4160      \n",
            "                                                                 \n",
            " dense_7 (Dense)             (None, 1)                 65        \n",
            "                                                                 \n",
            "=================================================================\n",
            "Total params: 4,884\n",
            "Trainable params: 4,865\n",
            "Non-trainable params: 19\n",
            "_________________________________________________________________\n"
          ]
        }
      ]
    },
    {
      "cell_type": "code",
      "metadata": {
        "id": "CXDENACl2tuW",
        "outputId": "9d132499-e0da-4c11-cde5-dc39d892b4f9",
        "colab": {
          "base_uri": "https://localhost:8080/"
        }
      },
      "source": [
        "%%time\n",
        "history = dnn_model.fit(\n",
        "    train_features,\n",
        "    train_labels,\n",
        "    validation_split=0.2,\n",
        "    verbose=100, epochs=100)"
      ],
      "execution_count": 51,
      "outputs": [
        {
          "output_type": "stream",
          "name": "stdout",
          "text": [
            "Epoch 1/100\n",
            "Epoch 2/100\n",
            "Epoch 3/100\n",
            "Epoch 4/100\n",
            "Epoch 5/100\n",
            "Epoch 6/100\n",
            "Epoch 7/100\n",
            "Epoch 8/100\n",
            "Epoch 9/100\n",
            "Epoch 10/100\n",
            "Epoch 11/100\n",
            "Epoch 12/100\n",
            "Epoch 13/100\n",
            "Epoch 14/100\n",
            "Epoch 15/100\n",
            "Epoch 16/100\n",
            "Epoch 17/100\n",
            "Epoch 18/100\n",
            "Epoch 19/100\n",
            "Epoch 20/100\n",
            "Epoch 21/100\n",
            "Epoch 22/100\n",
            "Epoch 23/100\n",
            "Epoch 24/100\n",
            "Epoch 25/100\n",
            "Epoch 26/100\n",
            "Epoch 27/100\n",
            "Epoch 28/100\n",
            "Epoch 29/100\n",
            "Epoch 30/100\n",
            "Epoch 31/100\n",
            "Epoch 32/100\n",
            "Epoch 33/100\n",
            "Epoch 34/100\n",
            "Epoch 35/100\n",
            "Epoch 36/100\n",
            "Epoch 37/100\n",
            "Epoch 38/100\n",
            "Epoch 39/100\n",
            "Epoch 40/100\n",
            "Epoch 41/100\n",
            "Epoch 42/100\n",
            "Epoch 43/100\n",
            "Epoch 44/100\n",
            "Epoch 45/100\n",
            "Epoch 46/100\n",
            "Epoch 47/100\n",
            "Epoch 48/100\n",
            "Epoch 49/100\n",
            "Epoch 50/100\n",
            "Epoch 51/100\n",
            "Epoch 52/100\n",
            "Epoch 53/100\n",
            "Epoch 54/100\n",
            "Epoch 55/100\n",
            "Epoch 56/100\n",
            "Epoch 57/100\n",
            "Epoch 58/100\n",
            "Epoch 59/100\n",
            "Epoch 60/100\n",
            "Epoch 61/100\n",
            "Epoch 62/100\n",
            "Epoch 63/100\n",
            "Epoch 64/100\n",
            "Epoch 65/100\n",
            "Epoch 66/100\n",
            "Epoch 67/100\n",
            "Epoch 68/100\n",
            "Epoch 69/100\n",
            "Epoch 70/100\n",
            "Epoch 71/100\n",
            "Epoch 72/100\n",
            "Epoch 73/100\n",
            "Epoch 74/100\n",
            "Epoch 75/100\n",
            "Epoch 76/100\n",
            "Epoch 77/100\n",
            "Epoch 78/100\n",
            "Epoch 79/100\n",
            "Epoch 80/100\n",
            "Epoch 81/100\n",
            "Epoch 82/100\n",
            "Epoch 83/100\n",
            "Epoch 84/100\n",
            "Epoch 85/100\n",
            "Epoch 86/100\n",
            "Epoch 87/100\n",
            "Epoch 88/100\n",
            "Epoch 89/100\n",
            "Epoch 90/100\n",
            "Epoch 91/100\n",
            "Epoch 92/100\n",
            "Epoch 93/100\n",
            "Epoch 94/100\n",
            "Epoch 95/100\n",
            "Epoch 96/100\n",
            "Epoch 97/100\n",
            "Epoch 98/100\n",
            "Epoch 99/100\n",
            "Epoch 100/100\n",
            "CPU times: user 3.29 s, sys: 174 ms, total: 3.46 s\n",
            "Wall time: 3.15 s\n"
          ]
        }
      ]
    },
    {
      "cell_type": "code",
      "metadata": {
        "id": "-9Dbj0fX23RQ",
        "outputId": "fe1aceac-fabb-493e-91eb-c5a115eda9a9",
        "colab": {
          "base_uri": "https://localhost:8080/",
          "height": 283
        }
      },
      "source": [
        "plot_loss(history)"
      ],
      "execution_count": 52,
      "outputs": [
        {
          "output_type": "display_data",
          "data": {
            "image/png": "[encoded data removed]",
            "text/plain": [
              "<Figure size 432x288 with 1 Axes>"
            ]
          },
          "metadata": {
            "needs_background": "light"
          }
        }
      ]
    },
    {
      "cell_type": "markdown",
      "metadata": {
        "id": "hWoVYS34fJPZ"
      },
      "source": [
        "Collect the results on the test set:"
      ]
    },
    {
      "cell_type": "code",
      "metadata": {
        "id": "-bZIa96W3c7K"
      },
      "source": [
        "test_results['dnn_model'] = dnn_model.evaluate(test_features, test_labels, verbose=0)"
      ],
      "execution_count": 53,
      "outputs": []
    },
    {
      "cell_type": "markdown",
      "metadata": {
        "id": "uiCucdPLfMkZ"
      },
      "source": [
        "## Performance"
      ]
    },
    {
      "cell_type": "markdown",
      "metadata": {
        "id": "rDf1xebEfWBw"
      },
      "source": [
        "Since all models have been trained, you can review their test set performance:"
      ]
    },
    {
      "cell_type": "code",
      "metadata": {
        "id": "e5_ooufM5iH2",
        "outputId": "2d9bfc81-09af-4325-e156-eb3738cc0e82",
        "colab": {
          "base_uri": "https://localhost:8080/",
          "height": 175
        }
      },
      "source": [
        "pd.DataFrame(test_results, index=['Mean absolute error [MPG]']).T"
      ],
      "execution_count": 54,
      "outputs": [
        {
          "output_type": "execute_result",
          "data": {
            "text/html": [
              "<div>\n",
              "<style scoped>\n",
              "    .dataframe tbody tr th:only-of-type {\n",
              "        vertical-align: middle;\n",
              "    }\n",
              "\n",
              "    .dataframe tbody tr th {\n",
              "        vertical-align: top;\n",
              "    }\n",
              "\n",
              "    .dataframe thead th {\n",
              "        text-align: right;\n",
              "    }\n",
              "</style>\n",
              "<table border=\"1\" class=\"dataframe\">\n",
              "  <thead>\n",
              "    <tr style=\"text-align: right;\">\n",
              "      <th></th>\n",
              "      <th>Mean absolute error [MPG]</th>\n",
              "    </tr>\n",
              "  </thead>\n",
              "  <tbody>\n",
              "    <tr>\n",
              "      <th>horsepower_model</th>\n",
              "      <td>3.653132</td>\n",
              "    </tr>\n",
              "    <tr>\n",
              "      <th>linear_model</th>\n",
              "      <td>2.479827</td>\n",
              "    </tr>\n",
              "    <tr>\n",
              "      <th>dnn_horsepower_model</th>\n",
              "      <td>2.927111</td>\n",
              "    </tr>\n",
              "    <tr>\n",
              "      <th>dnn_model</th>\n",
              "      <td>1.725675</td>\n",
              "    </tr>\n",
              "  </tbody>\n",
              "</table>\n",
              "</div>"
            ],
            "text/plain": [
              "                      Mean absolute error [MPG]\n",
              "horsepower_model                       3.653132\n",
              "linear_model                           2.479827\n",
              "dnn_horsepower_model                   2.927111\n",
              "dnn_model                              1.725675"
            ]
          },
          "metadata": {},
          "execution_count": 54
        }
      ]
    },
    {
      "cell_type": "markdown",
      "metadata": {
        "id": "DABIVzsCf-QI"
      },
      "source": [
        "These results match the validation error observed during training."
      ]
    },
    {
      "cell_type": "markdown",
      "metadata": {
        "id": "ft603OzXuEZC"
      },
      "source": [
        "### Make predictions\n",
        "\n",
        "You can now make predictions with the `dnn_model` on the test set using Keras `Model.predict` and review the loss:"
      ]
    },
    {
      "cell_type": "code",
      "metadata": {
        "id": "Xe7RXH3N3CWU",
        "outputId": "69ab5231-b800-4584-d0b1-a863b8547229",
        "colab": {
          "base_uri": "https://localhost:8080/",
          "height": 283
        }
      },
      "source": [
        "test_predictions = dnn_model.predict(test_features).flatten()\n",
        "\n",
        "a = plt.axes(aspect='equal')\n",
        "plt.scatter(test_labels, test_predictions)\n",
        "plt.xlabel('True Values [MPG]')\n",
        "plt.ylabel('Predictions [MPG]')\n",
        "lims = [0, 50]\n",
        "plt.xlim(lims)\n",
        "plt.ylim(lims)\n",
        "_ = plt.plot(lims, lims)\n"
      ],
      "execution_count": 55,
      "outputs": [
        {
          "output_type": "display_data",
          "data": {
            "image/png": "[encoded data removed]",
            "text/plain": [
              "<Figure size 432x288 with 1 Axes>"
            ]
          },
          "metadata": {
            "needs_background": "light"
          }
        }
      ]
    },
    {
      "cell_type": "markdown",
      "metadata": {
        "id": "19wyogbOSU5t"
      },
      "source": [
        "It appears that the model predicts reasonably well.\n",
        "\n",
        "Now, check the error distribution:"
      ]
    },
    {
      "cell_type": "code",
      "metadata": {
        "id": "f-OHX4DiXd8x",
        "outputId": "99b5a664-e7ca-4fee-c5c0-607b82b83490",
        "colab": {
          "base_uri": "https://localhost:8080/",
          "height": 279
        }
      },
      "source": [
        "error = test_predictions - test_labels\n",
        "plt.hist(error, bins=25)\n",
        "plt.xlabel('Prediction Error [MPG]')\n",
        "_ = plt.ylabel('Count')"
      ],
      "execution_count": 56,
      "outputs": [
        {
          "output_type": "display_data",
          "data": {
            "image/png": "[encoded data removed]",
            "text/plain": [
              "<Figure size 432x288 with 1 Axes>"
            ]
          },
          "metadata": {
            "needs_background": "light"
          }
        }
      ]
    },
    {
      "cell_type": "markdown",
      "metadata": {
        "id": "KSyaHUfDT-mZ"
      },
      "source": [
        "If you're happy with the model, save it for later use with `Model.save`:"
      ]
    },
    {
      "cell_type": "code",
      "metadata": {
        "id": "4-WwLlmfT-mb",
        "outputId": "730b7f3f-a2f4-4792-d966-929c12e29eb2",
        "colab": {
          "base_uri": "https://localhost:8080/"
        }
      },
      "source": [
        "dnn_model.save('dnn_model')"
      ],
      "execution_count": 57,
      "outputs": [
        {
          "output_type": "stream",
          "name": "stdout",
          "text": [
            "INFO:tensorflow:Assets written to: dnn_model/assets\n"
          ]
        }
      ]
    },
    {
      "cell_type": "markdown",
      "metadata": {
        "id": "Benlnl8UT-me"
      },
      "source": [
        "If you reload the model, it gives identical output:"
      ]
    },
    {
      "cell_type": "code",
      "metadata": {
        "id": "dyyyj2zVT-mf"
      },
      "source": [
        "reloaded = tf.keras.models.load_model('dnn_model')\n",
        "\n",
        "test_results['reloaded'] = reloaded.evaluate(\n",
        "    test_features, test_labels, verbose=0)"
      ],
      "execution_count": 58,
      "outputs": []
    },
    {
      "cell_type": "code",
      "metadata": {
        "id": "f_GchJ2tg-2o",
        "outputId": "34a0eb86-d21f-4d07-f941-30fdd64bb2f2",
        "colab": {
          "base_uri": "https://localhost:8080/",
          "height": 206
        }
      },
      "source": [
        "pd.DataFrame(test_results, index=['Mean absolute error [MPG]']).T"
      ],
      "execution_count": 59,
      "outputs": [
        {
          "output_type": "execute_result",
          "data": {
            "text/html": [
              "<div>\n",
              "<style scoped>\n",
              "    .dataframe tbody tr th:only-of-type {\n",
              "        vertical-align: middle;\n",
              "    }\n",
              "\n",
              "    .dataframe tbody tr th {\n",
              "        vertical-align: top;\n",
              "    }\n",
              "\n",
              "    .dataframe thead th {\n",
              "        text-align: right;\n",
              "    }\n",
              "</style>\n",
              "<table border=\"1\" class=\"dataframe\">\n",
              "  <thead>\n",
              "    <tr style=\"text-align: right;\">\n",
              "      <th></th>\n",
              "      <th>Mean absolute error [MPG]</th>\n",
              "    </tr>\n",
              "  </thead>\n",
              "  <tbody>\n",
              "    <tr>\n",
              "      <th>horsepower_model</th>\n",
              "      <td>3.653132</td>\n",
              "    </tr>\n",
              "    <tr>\n",
              "      <th>linear_model</th>\n",
              "      <td>2.479827</td>\n",
              "    </tr>\n",
              "    <tr>\n",
              "      <th>dnn_horsepower_model</th>\n",
              "      <td>2.927111</td>\n",
              "    </tr>\n",
              "    <tr>\n",
              "      <th>dnn_model</th>\n",
              "      <td>1.725675</td>\n",
              "    </tr>\n",
              "    <tr>\n",
              "      <th>reloaded</th>\n",
              "      <td>1.725675</td>\n",
              "    </tr>\n",
              "  </tbody>\n",
              "</table>\n",
              "</div>"
            ],
            "text/plain": [
              "                      Mean absolute error [MPG]\n",
              "horsepower_model                       3.653132\n",
              "linear_model                           2.479827\n",
              "dnn_horsepower_model                   2.927111\n",
              "dnn_model                              1.725675\n",
              "reloaded                               1.725675"
            ]
          },
          "metadata": {},
          "execution_count": 59
        }
      ]
    },
    {
      "cell_type": "markdown",
      "metadata": {
        "id": "vgGQuV-yqYZH"
      },
      "source": [
        "## Conclusion\n",
        "\n",
        "This notebook introduced a few techniques to handle a regression problem. Here are a few more tips that may help:\n",
        "\n",
        "- Mean squared error (MSE) (`tf.losses.MeanMeanSquaredError`) and mean absolute error (MAE) (`tf.losses.MeanAbsoluteError`) are common loss functions used for regression problems. MAE is less sensitive to outliers. Different loss functions are used for classification problems.\n",
        "- Similarly, evaluation metrics used for regression differ from classification.\n",
        "- When numeric input data features have values with different ranges, each feature should be scaled independently to the same range.\n",
        "- Overfitting is a common problem for DNN models, though it wasn't a problem for this tutorial. Visit the [Overfit and underfit](overfit_and_underfit.ipynb) tutorial for more help with this."
      ]
    }
  ]
}