{
 "cells": [
  {
   "cell_type": "markdown",
   "metadata": {
    "toc": true
   },
   "source": [
    "<h1>Table of Contents<span class=\"tocSkip\"></span></h1>\n",
    "<div class=\"toc\"><ul class=\"toc-item\"><li><span><a href=\"#Basic-classification:-Classify-images-of-clothing\" data-toc-modified-id=\"Basic-classification:-Classify-images-of-clothing-1\"><span class=\"toc-item-num\">1&nbsp;&nbsp;</span>Basic classification: Classify images of clothing</a></span><ul class=\"toc-item\"><li><span><a href=\"#Import-the-Fashion-MNIST-dataset\" data-toc-modified-id=\"Import-the-Fashion-MNIST-dataset-1.1\"><span class=\"toc-item-num\">1.1&nbsp;&nbsp;</span>Import the Fashion MNIST dataset</a></span></li><li><span><a href=\"#Explore-the-data\" data-toc-modified-id=\"Explore-the-data-1.2\"><span class=\"toc-item-num\">1.2&nbsp;&nbsp;</span>Explore the data</a></span></li><li><span><a href=\"#Preprocess-the-data\" data-toc-modified-id=\"Preprocess-the-data-1.3\"><span class=\"toc-item-num\">1.3&nbsp;&nbsp;</span>Preprocess the data</a></span></li><li><span><a href=\"#Build-the-model\" data-toc-modified-id=\"Build-the-model-1.4\"><span class=\"toc-item-num\">1.4&nbsp;&nbsp;</span>Build the model</a></span><ul class=\"toc-item\"><li><span><a href=\"#Set-up-the-layers\" data-toc-modified-id=\"Set-up-the-layers-1.4.1\"><span class=\"toc-item-num\">1.4.1&nbsp;&nbsp;</span>Set up the layers</a></span></li><li><span><a href=\"#Compile-the-model\" data-toc-modified-id=\"Compile-the-model-1.4.2\"><span class=\"toc-item-num\">1.4.2&nbsp;&nbsp;</span>Compile the model</a></span></li></ul></li><li><span><a href=\"#Train-the-model\" data-toc-modified-id=\"Train-the-model-1.5\"><span class=\"toc-item-num\">1.5&nbsp;&nbsp;</span>Train the model</a></span><ul class=\"toc-item\"><li><span><a href=\"#Feed-the-model\" data-toc-modified-id=\"Feed-the-model-1.5.1\"><span class=\"toc-item-num\">1.5.1&nbsp;&nbsp;</span>Feed the model</a></span></li><li><span><a href=\"#Evaluate-accuracy\" data-toc-modified-id=\"Evaluate-accuracy-1.5.2\"><span class=\"toc-item-num\">1.5.2&nbsp;&nbsp;</span>Evaluate accuracy</a></span></li><li><span><a href=\"#Make-predictions\" data-toc-modified-id=\"Make-predictions-1.5.3\"><span class=\"toc-item-num\">1.5.3&nbsp;&nbsp;</span>Make predictions</a></span></li><li><span><a href=\"#Verify-predictions\" data-toc-modified-id=\"Verify-predictions-1.5.4\"><span class=\"toc-item-num\">1.5.4&nbsp;&nbsp;</span>Verify predictions</a></span></li></ul></li><li><span><a href=\"#Use-the-trained-model\" data-toc-modified-id=\"Use-the-trained-model-1.6\"><span class=\"toc-item-num\">1.6&nbsp;&nbsp;</span>Use the trained model</a></span></li></ul></li></ul></div>"
   ]
  },
  {
   "cell_type": "markdown",
   "metadata": {
    "id": "jYysdyb-CaWM"
   },
   "source": [
    "# Basic classification: Classify images of clothing"
   ]
  },
  {
   "cell_type": "markdown",
   "metadata": {
    "id": "FbVhjPpzn6BM"
   },
   "source": [
    "This guide trains a neural network model to classify images of clothing, like sneakers and shirts. It's okay if you don't understand all the details; this is a fast-paced overview of a complete TensorFlow program with the details explained as you go.\n",
    "\n",
    "This guide uses [tf.keras](https://www.tensorflow.org/guide/keras), a high-level API to build and train models in TensorFlow."
   ]
  },
  {
   "cell_type": "code",
   "execution_count": 1,
   "metadata": {
    "ExecuteTime": {
     "end_time": "2021-11-19T02:39:57.440606Z",
     "start_time": "2021-11-19T02:39:55.125712Z"
    },
    "execution": {
     "iopub.execute_input": "2021-06-19T02:10:41.425197Z",
     "iopub.status.busy": "2021-06-19T02:10:41.424646Z",
     "iopub.status.idle": "2021-06-19T02:10:43.015891Z",
     "shell.execute_reply": "2021-06-19T02:10:43.016303Z"
    },
    "id": "dzLKpmZICaWN"
   },
   "outputs": [
    {
     "name": "stdout",
     "output_type": "stream",
     "text": [
      "2.0.0\n"
     ]
    }
   ],
   "source": [
    "# TensorFlow and tf.keras\n",
    "import tensorflow as tf\n",
    "\n",
    "# Helper libraries\n",
    "import numpy as np\n",
    "import matplotlib.pyplot as plt\n",
    "\n",
    "print(tf.__version__)"
   ]
  },
  {
   "cell_type": "markdown",
   "metadata": {
    "id": "yR0EdgrLCaWR"
   },
   "source": [
    "## Import the Fashion MNIST dataset"
   ]
  },
  {
   "cell_type": "markdown",
   "metadata": {
    "id": "DLdCchMdCaWQ"
   },
   "source": [
    "This guide uses the [Fashion MNIST](https://github.com/zalandoresearch/fashion-mnist) dataset which contains 70,000 grayscale images in 10 categories. The images show individual articles of clothing at low resolution (28 by 28 pixels), as seen here:\n",
    "\n",
    "<table>\n",
    "  <tr><td>\n",
    "    <img src=\"https://tensorflow.org/images/fashion-mnist-sprite.png\"\n",
    "         alt=\"Fashion MNIST sprite\"  width=\"600\">\n",
    "  </td></tr>\n",
    "  <tr><td align=\"center\">\n",
    "    <b>Figure 1.</b> <a href=\"https://github.com/zalandoresearch/fashion-mnist\">Fashion-MNIST samples</a> (by Zalando, MIT License).<br/>&nbsp;\n",
    "  </td></tr>\n",
    "</table>\n",
    "\n",
    "Fashion MNIST is intended as a drop-in replacement for the classic [MNIST](http://yann.lecun.com/exdb/mnist/) dataset—often used as the \"Hello, World\" of machine learning programs for computer vision. The MNIST dataset contains images of handwritten digits (0, 1, 2, etc.) in a format identical to that of the articles of clothing you'll use here.\n",
    "\n",
    "This guide uses Fashion MNIST for variety, and because it's a slightly more challenging problem than regular MNIST. Both datasets are relatively small and are used to verify that an algorithm works as expected. They're good starting points to test and debug code.\n",
    "\n",
    "Here, 60,000 images are used to train the network and 10,000 images to evaluate how accurately the network learned to classify images. You can access the Fashion MNIST directly from TensorFlow. Import and [load the Fashion MNIST data](https://www.tensorflow.org/api_docs/python/tf/keras/datasets/fashion_mnist/load_data) directly from TensorFlow:"
   ]
  },
  {
   "cell_type": "code",
   "execution_count": 2,
   "metadata": {
    "ExecuteTime": {
     "end_time": "2021-11-19T02:40:08.484495Z",
     "start_time": "2021-11-19T02:40:08.158472Z"
    },
    "execution": {
     "iopub.execute_input": "2021-06-19T02:10:43.020609Z",
     "iopub.status.busy": "2021-06-19T02:10:43.020003Z",
     "iopub.status.idle": "2021-06-19T02:10:45.003038Z",
     "shell.execute_reply": "2021-06-19T02:10:45.002512Z"
    },
    "id": "7MqDQO0KCaWS"
   },
   "outputs": [],
   "source": [
    "fashion_mnist = tf.keras.datasets.fashion_mnist\n",
    "\n",
    "(train_images, train_labels), (test_images, test_labels) = fashion_mnist.load_data()"
   ]
  },
  {
   "cell_type": "markdown",
   "metadata": {
    "id": "t9FDsUlxCaWW"
   },
   "source": [
    "Loading the dataset returns four NumPy arrays:\n",
    "\n",
    "* The `train_images` and `train_labels` arrays are the *training set*—the data the model uses to learn.\n",
    "* The model is tested against the *test set*, the `test_images`, and `test_labels` arrays.\n",
    "\n",
    "The images are 28x28 NumPy arrays, with pixel values ranging from 0 to 255. The *labels* are an array of integers, ranging from 0 to 9. These correspond to the *class* of clothing the image represents:\n",
    "\n",
    "<table>\n",
    "  <tr>\n",
    "    <th>Label</th>\n",
    "    <th>Class</th>\n",
    "  </tr>\n",
    "  <tr>\n",
    "    <td>0</td>\n",
    "    <td>T-shirt/top</td>\n",
    "  </tr>\n",
    "  <tr>\n",
    "    <td>1</td>\n",
    "    <td>Trouser</td>\n",
    "  </tr>\n",
    "    <tr>\n",
    "    <td>2</td>\n",
    "    <td>Pullover</td>\n",
    "  </tr>\n",
    "    <tr>\n",
    "    <td>3</td>\n",
    "    <td>Dress</td>\n",
    "  </tr>\n",
    "    <tr>\n",
    "    <td>4</td>\n",
    "    <td>Coat</td>\n",
    "  </tr>\n",
    "    <tr>\n",
    "    <td>5</td>\n",
    "    <td>Sandal</td>\n",
    "  </tr>\n",
    "    <tr>\n",
    "    <td>6</td>\n",
    "    <td>Shirt</td>\n",
    "  </tr>\n",
    "    <tr>\n",
    "    <td>7</td>\n",
    "    <td>Sneaker</td>\n",
    "  </tr>\n",
    "    <tr>\n",
    "    <td>8</td>\n",
    "    <td>Bag</td>\n",
    "  </tr>\n",
    "    <tr>\n",
    "    <td>9</td>\n",
    "    <td>Ankle boot</td>\n",
    "  </tr>\n",
    "</table>\n",
    "\n",
    "Each image is mapped to a single label. Since the *class names* are not included with the dataset, store them here to use later when plotting the images:"
   ]
  },
  {
   "cell_type": "code",
   "execution_count": 3,
   "metadata": {
    "ExecuteTime": {
     "end_time": "2021-11-19T02:41:00.604670Z",
     "start_time": "2021-11-19T02:41:00.598669Z"
    },
    "execution": {
     "iopub.execute_input": "2021-06-19T02:10:45.007521Z",
     "iopub.status.busy": "2021-06-19T02:10:45.006928Z",
     "iopub.status.idle": "2021-06-19T02:10:45.008782Z",
     "shell.execute_reply": "2021-06-19T02:10:45.009129Z"
    },
    "id": "IjnLH5S2CaWx"
   },
   "outputs": [],
   "source": [
    "class_names = ['T-shirt/top', 'Trouser', 'Pullover', 'Dress', 'Coat',\n",
    "               'Sandal', 'Shirt', 'Sneaker', 'Bag', 'Ankle boot']"
   ]
  },
  {
   "cell_type": "markdown",
   "metadata": {
    "id": "Brm0b_KACaWX"
   },
   "source": [
    "## Explore the data\n",
    "\n",
    "Let's explore the format of the dataset before training the model. The following shows there are 60,000 images in the training set, with each image represented as 28 x 28 pixels:"
   ]
  },
  {
   "cell_type": "code",
   "execution_count": 4,
   "metadata": {
    "ExecuteTime": {
     "end_time": "2021-11-19T02:41:06.908620Z",
     "start_time": "2021-11-19T02:41:06.902621Z"
    },
    "execution": {
     "iopub.execute_input": "2021-06-19T02:10:45.014956Z",
     "iopub.status.busy": "2021-06-19T02:10:45.014239Z",
     "iopub.status.idle": "2021-06-19T02:10:45.017294Z",
     "shell.execute_reply": "2021-06-19T02:10:45.016873Z"
    },
    "id": "zW5k_xz1CaWX"
   },
   "outputs": [
    {
     "data": {
      "text/plain": [
       "(60000, 28, 28)"
      ]
     },
     "execution_count": 4,
     "metadata": {},
     "output_type": "execute_result"
    }
   ],
   "source": [
    "train_images.shape"
   ]
  },
  {
   "cell_type": "markdown",
   "metadata": {
    "id": "cIAcvQqMCaWf"
   },
   "source": [
    "Likewise, there are 60,000 labels in the training set:"
   ]
  },
  {
   "cell_type": "code",
   "execution_count": 5,
   "metadata": {
    "ExecuteTime": {
     "end_time": "2021-11-19T02:41:07.981445Z",
     "start_time": "2021-11-19T02:41:07.966447Z"
    },
    "execution": {
     "iopub.execute_input": "2021-06-19T02:10:45.021059Z",
     "iopub.status.busy": "2021-06-19T02:10:45.020470Z",
     "iopub.status.idle": "2021-06-19T02:10:45.023262Z",
     "shell.execute_reply": "2021-06-19T02:10:45.023600Z"
    },
    "id": "TRFYHB2mCaWb"
   },
   "outputs": [
    {
     "data": {
      "text/plain": [
       "60000"
      ]
     },
     "execution_count": 5,
     "metadata": {},
     "output_type": "execute_result"
    }
   ],
   "source": [
    "len(train_labels)"
   ]
  },
  {
   "cell_type": "markdown",
   "metadata": {
    "id": "YSlYxFuRCaWk"
   },
   "source": [
    "Each label is an integer between 0 and 9:"
   ]
  },
  {
   "cell_type": "code",
   "execution_count": 6,
   "metadata": {
    "ExecuteTime": {
     "end_time": "2021-11-19T02:41:09.069151Z",
     "start_time": "2021-11-19T02:41:09.055150Z"
    },
    "execution": {
     "iopub.execute_input": "2021-06-19T02:10:45.027589Z",
     "iopub.status.busy": "2021-06-19T02:10:45.026988Z",
     "iopub.status.idle": "2021-06-19T02:10:45.029973Z",
     "shell.execute_reply": "2021-06-19T02:10:45.029486Z"
    },
    "id": "XKnCTHz4CaWg"
   },
   "outputs": [
    {
     "data": {
      "text/plain": [
       "array([9, 0, 0, ..., 3, 0, 5], dtype=uint8)"
      ]
     },
     "execution_count": 6,
     "metadata": {},
     "output_type": "execute_result"
    }
   ],
   "source": [
    "train_labels"
   ]
  },
  {
   "cell_type": "markdown",
   "metadata": {
    "id": "TMPI88iZpO2T"
   },
   "source": [
    "There are 10,000 images in the test set. Again, each image is represented as 28 x 28 pixels:"
   ]
  },
  {
   "cell_type": "code",
   "execution_count": 7,
   "metadata": {
    "ExecuteTime": {
     "end_time": "2021-11-19T02:41:10.354166Z",
     "start_time": "2021-11-19T02:41:10.343162Z"
    },
    "execution": {
     "iopub.execute_input": "2021-06-19T02:10:45.033636Z",
     "iopub.status.busy": "2021-06-19T02:10:45.033050Z",
     "iopub.status.idle": "2021-06-19T02:10:45.036010Z",
     "shell.execute_reply": "2021-06-19T02:10:45.035625Z"
    },
    "id": "2KFnYlcwCaWl"
   },
   "outputs": [
    {
     "data": {
      "text/plain": [
       "(10000, 28, 28)"
      ]
     },
     "execution_count": 7,
     "metadata": {},
     "output_type": "execute_result"
    }
   ],
   "source": [
    "test_images.shape"
   ]
  },
  {
   "cell_type": "markdown",
   "metadata": {
    "id": "rd0A0Iu0CaWq"
   },
   "source": [
    "And the test set contains 10,000 images labels:"
   ]
  },
  {
   "cell_type": "code",
   "execution_count": 8,
   "metadata": {
    "ExecuteTime": {
     "end_time": "2021-11-19T02:41:15.871340Z",
     "start_time": "2021-11-19T02:41:15.863298Z"
    },
    "execution": {
     "iopub.execute_input": "2021-06-19T02:10:45.039487Z",
     "iopub.status.busy": "2021-06-19T02:10:45.038805Z",
     "iopub.status.idle": "2021-06-19T02:10:45.041639Z",
     "shell.execute_reply": "2021-06-19T02:10:45.041961Z"
    },
    "id": "iJmPr5-ACaWn"
   },
   "outputs": [
    {
     "data": {
      "text/plain": [
       "10000"
      ]
     },
     "execution_count": 8,
     "metadata": {},
     "output_type": "execute_result"
    }
   ],
   "source": [
    "len(test_labels)"
   ]
  },
  {
   "cell_type": "markdown",
   "metadata": {
    "id": "ES6uQoLKCaWr"
   },
   "source": [
    "## Preprocess the data\n",
    "\n",
    "The data must be preprocessed before training the network. If you inspect the first image in the training set, you will see that the pixel values fall in the range of 0 to 255:"
   ]
  },
  {
   "cell_type": "code",
   "execution_count": 14,
   "metadata": {
    "ExecuteTime": {
     "end_time": "2021-11-19T02:43:34.448419Z",
     "start_time": "2021-11-19T02:43:34.319420Z"
    },
    "execution": {
     "iopub.execute_input": "2021-06-19T02:10:45.057788Z",
     "iopub.status.busy": "2021-06-19T02:10:45.056376Z",
     "iopub.status.idle": "2021-06-19T02:10:45.198895Z",
     "shell.execute_reply": "2021-06-19T02:10:45.198360Z"
    },
    "id": "m4VEw8Ud9Quh"
   },
   "outputs": [
    {
     "data": {
      "image/png": "[encoded data removed]",
      "text/plain": [
       "<Figure size 432x288 with 2 Axes>"
      ]
     },
     "metadata": {
      "needs_background": "light"
     },
     "output_type": "display_data"
    }
   ],
   "source": [
    "plt.figure()\n",
    "plt.imshow(train_images[1])\n",
    "plt.colorbar()\n",
    "plt.grid(False)\n",
    "plt.show()"
   ]
  },
  {
   "cell_type": "markdown",
   "metadata": {
    "id": "Wz7l27Lz9S1P"
   },
   "source": [
    "Scale these values to a range of 0 to 1 before feeding them to the neural network model. To do so, divide the values by 255. It's important that the *training set* and the *testing set* be preprocessed in the same way:"
   ]
  },
  {
   "cell_type": "code",
   "execution_count": 13,
   "metadata": {
    "ExecuteTime": {
     "end_time": "2021-11-19T02:42:08.324689Z",
     "start_time": "2021-11-19T02:42:08.214690Z"
    },
    "execution": {
     "iopub.execute_input": "2021-06-19T02:10:45.202348Z",
     "iopub.status.busy": "2021-06-19T02:10:45.201806Z",
     "iopub.status.idle": "2021-06-19T02:10:45.349724Z",
     "shell.execute_reply": "2021-06-19T02:10:45.349111Z"
    },
    "id": "bW5WzIPlCaWv"
   },
   "outputs": [],
   "source": [
    "train_images = train_images / 255.0\n",
    "\n",
    "test_images = test_images / 255.0"
   ]
  },
  {
   "cell_type": "markdown",
   "metadata": {
    "id": "Ee638AlnCaWz"
   },
   "source": [
    "To verify that the data is in the correct format and that you're ready to build and train the network, let's display the first 25 images from the *training set* and display the class name below each image."
   ]
  },
  {
   "cell_type": "code",
   "execution_count": 15,
   "metadata": {
    "ExecuteTime": {
     "end_time": "2021-11-19T02:43:36.649422Z",
     "start_time": "2021-11-19T02:43:35.975452Z"
    },
    "execution": {
     "iopub.execute_input": "2021-06-19T02:10:45.382366Z",
     "iopub.status.busy": "2021-06-19T02:10:45.381775Z",
     "iopub.status.idle": "2021-06-19T02:10:46.193501Z",
     "shell.execute_reply": "2021-06-19T02:10:46.193880Z"
    },
    "id": "oZTImqg_CaW1"
   },
   "outputs": [
    {
     "data": {
      "image/png": "[encoded data removed]",
      "text/plain": [
       "<Figure size 720x720 with 25 Axes>"
      ]
     },
     "metadata": {},
     "output_type": "display_data"
    }
   ],
   "source": [
    "plt.figure(figsize=(10,10))\n",
    "for i in range(25):\n",
    "    plt.subplot(5,5,i+1)\n",
    "    plt.xticks([])\n",
    "    plt.yticks([])\n",
    "    plt.grid(False)\n",
    "    plt.imshow(train_images[i], cmap=plt.cm.binary)\n",
    "    plt.xlabel(class_names[train_labels[i]])\n",
    "plt.show()"
   ]
  },
  {
   "cell_type": "markdown",
   "metadata": {
    "id": "59veuiEZCaW4"
   },
   "source": [
    "## Build the model\n",
    "\n",
    "Building the neural network requires configuring the layers of the model, then compiling the model."
   ]
  },
  {
   "cell_type": "markdown",
   "metadata": {
    "id": "Gxg1XGm0eOBy"
   },
   "source": [
    "### Set up the layers\n",
    "\n",
    "The basic building block of a neural network is the [*layer*](https://www.tensorflow.org/api_docs/python/tf/keras/layers). Layers extract representations from the data fed into them. Hopefully, these representations are meaningful for the problem at hand.\n",
    "\n",
    "Most of deep learning consists of chaining together simple layers. Most layers, such as `tf.keras.layers.Dense`, have parameters that are learned during training."
   ]
  },
  {
   "cell_type": "code",
   "execution_count": 16,
   "metadata": {
    "ExecuteTime": {
     "end_time": "2021-11-19T02:44:26.846634Z",
     "start_time": "2021-11-19T02:44:23.501587Z"
    },
    "execution": {
     "iopub.execute_input": "2021-06-19T02:10:46.198966Z",
     "iopub.status.busy": "2021-06-19T02:10:46.197718Z",
     "iopub.status.idle": "2021-06-19T02:10:47.750372Z",
     "shell.execute_reply": "2021-06-19T02:10:47.750807Z"
    },
    "id": "9ODch-OFCaW4"
   },
   "outputs": [],
   "source": [
    "model = tf.keras.Sequential([\n",
    "    tf.keras.layers.Flatten(input_shape=(28, 28)),\n",
    "    tf.keras.layers.Dense(128, activation='relu'),\n",
    "    tf.keras.layers.Dense(10)\n",
    "])"
   ]
  },
  {
   "cell_type": "code",
   "execution_count": 17,
   "metadata": {
    "ExecuteTime": {
     "end_time": "2021-11-19T02:44:37.625919Z",
     "start_time": "2021-11-19T02:44:37.607919Z"
    }
   },
   "outputs": [
    {
     "name": "stdout",
     "output_type": "stream",
     "text": [
      "Model: \"sequential\"\n",
      "_________________________________________________________________\n",
      "Layer (type)                 Output Shape              Param #   \n",
      "=================================================================\n",
      "flatten (Flatten)            (None, 784)               0         \n",
      "_________________________________________________________________\n",
      "dense (Dense)                (None, 128)               100480    \n",
      "_________________________________________________________________\n",
      "dense_1 (Dense)              (None, 10)                1290      \n",
      "=================================================================\n",
      "Total params: 101,770\n",
      "Trainable params: 101,770\n",
      "Non-trainable params: 0\n",
      "_________________________________________________________________\n"
     ]
    }
   ],
   "source": [
    "model.summary()"
   ]
  },
  {
   "cell_type": "markdown",
   "metadata": {
    "id": "gut8A_7rCaW6"
   },
   "source": [
    "The first layer in this network, `tf.keras.layers.Flatten`, transforms the format of the images from a two-dimensional array (of 28 by 28 pixels) to a one-dimensional array (of 28 * 28 = 784 pixels). Think of this layer as unstacking rows of pixels in the image and lining them up. This layer has no parameters to learn; it only reformats the data.\n",
    "\n",
    "After the pixels are flattened, the network consists of a sequence of two `tf.keras.layers.Dense` layers. These are densely connected, or fully connected, neural layers. The first `Dense` layer has 128 nodes (or neurons). The second (and last) layer returns a logits array with length of 10. Each node contains a score that indicates the current image belongs to one of the 10 classes.\n",
    "\n",
    "### Compile the model\n",
    "\n",
    "Before the model is ready for training, it needs a few more settings. These are added during the model's [*compile*](https://www.tensorflow.org/api_docs/python/tf/keras/Model#compile) step:\n",
    "\n",
    "* [*Loss function*](https://www.tensorflow.org/api_docs/python/tf/keras/losses) —This measures how accurate the model is during training. You want to minimize this function to \"steer\" the model in the right direction.\n",
    "* [*Optimizer*](https://www.tensorflow.org/api_docs/python/tf/keras/optimizers) —This is how the model is updated based on the data it sees and its loss function.\n",
    "* [*Metrics*](https://www.tensorflow.org/api_docs/python/tf/keras/metrics) —Used to monitor the training and testing steps. The following example uses *accuracy*, the fraction of the images that are correctly classified."
   ]
  },
  {
   "cell_type": "code",
   "execution_count": 18,
   "metadata": {
    "ExecuteTime": {
     "end_time": "2021-11-19T02:45:19.462528Z",
     "start_time": "2021-11-19T02:45:18.854398Z"
    },
    "execution": {
     "iopub.execute_input": "2021-06-19T02:10:47.757560Z",
     "iopub.status.busy": "2021-06-19T02:10:47.756997Z",
     "iopub.status.idle": "2021-06-19T02:10:47.762364Z",
     "shell.execute_reply": "2021-06-19T02:10:47.761965Z"
    },
    "id": "Lhan11blCaW7"
   },
   "outputs": [],
   "source": [
    "model.compile(optimizer='adam',\n",
    "              loss=tf.keras.losses.SparseCategoricalCrossentropy(from_logits=True),\n",
    "              metrics=['accuracy'])"
   ]
  },
  {
   "cell_type": "markdown",
   "metadata": {
    "id": "qKF6uW-BCaW-"
   },
   "source": [
    "## Train the model\n",
    "\n",
    "Training the neural network model requires the following steps:\n",
    "\n",
    "1. Feed the training data to the model. In this example, the training data is in the `train_images` and `train_labels` arrays.\n",
    "2. The model learns to associate images and labels.\n",
    "3. You ask the model to make predictions about a test set—in this example, the `test_images` array.\n",
    "4. Verify that the predictions match the labels from the `test_labels` array.\n"
   ]
  },
  {
   "cell_type": "markdown",
   "metadata": {
    "id": "Z4P4zIV7E28Z"
   },
   "source": [
    "### Feed the model\n",
    "\n",
    "To start training,  call the [`model.fit`](https://www.tensorflow.org/api_docs/python/tf/keras/Model#fit) method—so called because it \"fits\" the model to the training data:"
   ]
  },
  {
   "cell_type": "code",
   "execution_count": 19,
   "metadata": {
    "ExecuteTime": {
     "end_time": "2021-11-19T02:46:57.464760Z",
     "start_time": "2021-11-19T02:45:28.135968Z"
    },
    "execution": {
     "iopub.execute_input": "2021-06-19T02:10:47.765869Z",
     "iopub.status.busy": "2021-06-19T02:10:47.765331Z",
     "iopub.status.idle": "2021-06-19T02:11:14.841393Z",
     "shell.execute_reply": "2021-06-19T02:11:14.841736Z"
    },
    "id": "xvwvpA64CaW_"
   },
   "outputs": [
    {
     "name": "stdout",
     "output_type": "stream",
     "text": [
      "Train on 60000 samples\n",
      "Epoch 1/10\n",
      "60000/60000 [==============================] - 10s 174us/sample - loss: 0.4974 - accuracy: 0.8251\n",
      "Epoch 2/10\n",
      "60000/60000 [==============================] - 9s 154us/sample - loss: 0.3778 - accuracy: 0.8626\n",
      "Epoch 3/10\n",
      "60000/60000 [==============================] - 7s 116us/sample - loss: 0.3395 - accuracy: 0.8765\n",
      "Epoch 4/10\n",
      "60000/60000 [==============================] - 9s 150us/sample - loss: 0.3133 - accuracy: 0.8849\n",
      "Epoch 5/10\n",
      "60000/60000 [==============================] - 9s 155us/sample - loss: 0.2975 - accuracy: 0.8905\n",
      "Epoch 6/10\n",
      "60000/60000 [==============================] - 7s 120us/sample - loss: 0.2813 - accuracy: 0.8954\n",
      "Epoch 7/10\n",
      "60000/60000 [==============================] - 9s 157us/sample - loss: 0.2698 - accuracy: 0.8998\n",
      "Epoch 8/10\n",
      "60000/60000 [==============================] - 9s 156us/sample - loss: 0.2577 - accuracy: 0.9040\n",
      "Epoch 9/10\n",
      "60000/60000 [==============================] - 9s 155us/sample - loss: 0.2472 - accuracy: 0.9084\n",
      "Epoch 10/10\n",
      "60000/60000 [==============================] - 9s 151us/sample - loss: 0.2381 - accuracy: 0.9109\n"
     ]
    },
    {
     "data": {
      "text/plain": [
       "<tensorflow.python.keras.callbacks.History at 0x267fabac0c8>"
      ]
     },
     "execution_count": 19,
     "metadata": {},
     "output_type": "execute_result"
    }
   ],
   "source": [
    "model.fit(train_images, train_labels, epochs=10)"
   ]
  },
  {
   "cell_type": "markdown",
   "metadata": {
    "id": "W3ZVOhugCaXA"
   },
   "source": [
    "As the model trains, the loss and accuracy metrics are displayed. This model reaches an accuracy of about 0.91 (or 91%) on the training data."
   ]
  },
  {
   "cell_type": "markdown",
   "metadata": {
    "id": "wCpr6DGyE28h"
   },
   "source": [
    "### Evaluate accuracy\n",
    "\n",
    "Next, compare how the model performs on the test dataset:"
   ]
  },
  {
   "cell_type": "code",
   "execution_count": 20,
   "metadata": {
    "ExecuteTime": {
     "end_time": "2021-11-19T02:47:28.304281Z",
     "start_time": "2021-11-19T02:47:27.303203Z"
    },
    "execution": {
     "iopub.execute_input": "2021-06-19T02:11:14.846050Z",
     "iopub.status.busy": "2021-06-19T02:11:14.845496Z",
     "iopub.status.idle": "2021-06-19T02:11:15.331761Z",
     "shell.execute_reply": "2021-06-19T02:11:15.332153Z"
    },
    "id": "VflXLEeECaXC"
   },
   "outputs": [
    {
     "name": "stdout",
     "output_type": "stream",
     "text": [
      "10000/1 - 1s - loss: 0.2825 - accuracy: 0.8831\n",
      "\n",
      "Test accuracy: 0.8831\n"
     ]
    }
   ],
   "source": [
    "test_loss, test_acc = model.evaluate(test_images,  test_labels, verbose=2)\n",
    "\n",
    "print('\\nTest accuracy:', test_acc)"
   ]
  },
  {
   "cell_type": "markdown",
   "metadata": {
    "id": "yWfgsmVXCaXG"
   },
   "source": [
    "It turns out that the accuracy on the test dataset is a little less than the accuracy on the training dataset. This gap between training accuracy and test accuracy represents *overfitting*. Overfitting happens when a machine learning model performs worse on new, previously unseen inputs than it does on the training data. An overfitted model \"memorizes\" the noise and details in the training dataset to a point where it negatively impacts the performance of the model on the new data. For more information, see the following:\n",
    "*   [Demonstrate overfitting](https://www.tensorflow.org/tutorials/keras/overfit_and_underfit#demonstrate_overfitting)\n",
    "*   [Strategies to prevent overfitting](https://www.tensorflow.org/tutorials/keras/overfit_and_underfit#strategies_to_prevent_overfitting)"
   ]
  },
  {
   "cell_type": "markdown",
   "metadata": {
    "id": "v-PyD1SYE28q"
   },
   "source": [
    "### Make predictions\n",
    "\n",
    "With the model trained, you can use it to make predictions about some images.\n",
    "The model's linear outputs, [logits](https://developers.google.com/machine-learning/glossary#logits). Attach a softmax layer to convert the logits to probabilities, which are easier to interpret. "
   ]
  },
  {
   "cell_type": "code",
   "execution_count": 21,
   "metadata": {
    "ExecuteTime": {
     "end_time": "2021-11-19T02:47:48.333433Z",
     "start_time": "2021-11-19T02:47:48.302465Z"
    },
    "execution": {
     "iopub.execute_input": "2021-06-19T02:11:15.337141Z",
     "iopub.status.busy": "2021-06-19T02:11:15.336575Z",
     "iopub.status.idle": "2021-06-19T02:11:15.349833Z",
     "shell.execute_reply": "2021-06-19T02:11:15.349409Z"
    },
    "id": "DnfNA0CrQLSD"
   },
   "outputs": [],
   "source": [
    "probability_model = tf.keras.Sequential([model, \n",
    "                                         tf.keras.layers.Softmax()])"
   ]
  },
  {
   "cell_type": "code",
   "execution_count": 22,
   "metadata": {
    "ExecuteTime": {
     "end_time": "2021-11-19T02:47:52.374052Z",
     "start_time": "2021-11-19T02:47:51.600036Z"
    },
    "execution": {
     "iopub.execute_input": "2021-06-19T02:11:15.353310Z",
     "iopub.status.busy": "2021-06-19T02:11:15.352656Z",
     "iopub.status.idle": "2021-06-19T02:11:15.652106Z",
     "shell.execute_reply": "2021-06-19T02:11:15.652581Z"
    },
    "id": "Gl91RPhdCaXI"
   },
   "outputs": [],
   "source": [
    "predictions = probability_model.predict(test_images)"
   ]
  },
  {
   "cell_type": "markdown",
   "metadata": {
    "id": "x9Kk1voUCaXJ"
   },
   "source": [
    "Here, the model has predicted the label for each image in the testing set. Let's take a look at the first prediction:"
   ]
  },
  {
   "cell_type": "code",
   "execution_count": 23,
   "metadata": {
    "ExecuteTime": {
     "end_time": "2021-11-19T02:48:00.467097Z",
     "start_time": "2021-11-19T02:48:00.455068Z"
    },
    "execution": {
     "iopub.execute_input": "2021-06-19T02:11:15.656965Z",
     "iopub.status.busy": "2021-06-19T02:11:15.656322Z",
     "iopub.status.idle": "2021-06-19T02:11:15.658935Z",
     "shell.execute_reply": "2021-06-19T02:11:15.659340Z"
    },
    "id": "3DmJEUinCaXK"
   },
   "outputs": [
    {
     "data": {
      "text/plain": [
       "array([1.4199891e-07, 8.4859328e-09, 1.0585357e-08, 4.2245912e-10,\n",
       "       5.5249600e-08, 8.5712952e-04, 9.6822276e-08, 5.3278124e-03,\n",
       "       1.6728585e-08, 9.9381471e-01], dtype=float32)"
      ]
     },
     "execution_count": 23,
     "metadata": {},
     "output_type": "execute_result"
    }
   ],
   "source": [
    "predictions[0]"
   ]
  },
  {
   "cell_type": "markdown",
   "metadata": {
    "id": "-hw1hgeSCaXN"
   },
   "source": [
    "A prediction is an array of 10 numbers. They represent the model's \"confidence\" that the image corresponds to each of the 10 different articles of clothing. You can see which label has the highest confidence value:"
   ]
  },
  {
   "cell_type": "code",
   "execution_count": 24,
   "metadata": {
    "ExecuteTime": {
     "end_time": "2021-11-19T02:48:02.414894Z",
     "start_time": "2021-11-19T02:48:02.405857Z"
    },
    "execution": {
     "iopub.execute_input": "2021-06-19T02:11:15.663044Z",
     "iopub.status.busy": "2021-06-19T02:11:15.662329Z",
     "iopub.status.idle": "2021-06-19T02:11:15.664642Z",
     "shell.execute_reply": "2021-06-19T02:11:15.665025Z"
    },
    "id": "qsqenuPnCaXO"
   },
   "outputs": [
    {
     "data": {
      "text/plain": [
       "9"
      ]
     },
     "execution_count": 24,
     "metadata": {},
     "output_type": "execute_result"
    }
   ],
   "source": [
    "np.argmax(predictions[0])"
   ]
  },
  {
   "cell_type": "markdown",
   "metadata": {
    "id": "E51yS7iCCaXO"
   },
   "source": [
    "So, the model is most confident that this image is an ankle boot, or `class_names[9]`. Examining the test label shows that this classification is correct:"
   ]
  },
  {
   "cell_type": "code",
   "execution_count": 25,
   "metadata": {
    "ExecuteTime": {
     "end_time": "2021-11-19T02:48:06.882154Z",
     "start_time": "2021-11-19T02:48:06.878155Z"
    },
    "execution": {
     "iopub.execute_input": "2021-06-19T02:11:15.668514Z",
     "iopub.status.busy": "2021-06-19T02:11:15.667929Z",
     "iopub.status.idle": "2021-06-19T02:11:15.670172Z",
     "shell.execute_reply": "2021-06-19T02:11:15.670499Z"
    },
    "id": "Sd7Pgsu6CaXP"
   },
   "outputs": [
    {
     "data": {
      "text/plain": [
       "9"
      ]
     },
     "execution_count": 25,
     "metadata": {},
     "output_type": "execute_result"
    }
   ],
   "source": [
    "test_labels[0]"
   ]
  },
  {
   "cell_type": "markdown",
   "metadata": {
    "id": "ygh2yYC972ne"
   },
   "source": [
    "Graph this to look at the full set of 10 class predictions."
   ]
  },
  {
   "cell_type": "code",
   "execution_count": 26,
   "metadata": {
    "ExecuteTime": {
     "end_time": "2021-11-19T02:48:09.766024Z",
     "start_time": "2021-11-19T02:48:09.759026Z"
    },
    "execution": {
     "iopub.execute_input": "2021-06-19T02:11:15.676656Z",
     "iopub.status.busy": "2021-06-19T02:11:15.676078Z",
     "iopub.status.idle": "2021-06-19T02:11:15.677769Z",
     "shell.execute_reply": "2021-06-19T02:11:15.678162Z"
    },
    "id": "DvYmmrpIy6Y1"
   },
   "outputs": [],
   "source": [
    "def plot_image(i, predictions_array, true_label, img):\n",
    "  true_label, img = true_label[i], img[i]\n",
    "  plt.grid(False)\n",
    "  plt.xticks([])\n",
    "  plt.yticks([])\n",
    "\n",
    "  plt.imshow(img, cmap=plt.cm.binary)\n",
    "\n",
    "  predicted_label = np.argmax(predictions_array)\n",
    "  if predicted_label == true_label:\n",
    "    color = 'blue'\n",
    "  else:\n",
    "    color = 'red'\n",
    "\n",
    "  plt.xlabel(\"{} {:2.0f}% ({})\".format(class_names[predicted_label],\n",
    "                                100*np.max(predictions_array),\n",
    "                                class_names[true_label]),\n",
    "                                color=color)\n",
    "\n",
    "def plot_value_array(i, predictions_array, true_label):\n",
    "  true_label = true_label[i]\n",
    "  plt.grid(False)\n",
    "  plt.xticks(range(10))\n",
    "  plt.yticks([])\n",
    "  thisplot = plt.bar(range(10), predictions_array, color=\"#777777\")\n",
    "  plt.ylim([0, 1])\n",
    "  predicted_label = np.argmax(predictions_array)\n",
    "\n",
    "  thisplot[predicted_label].set_color('red')\n",
    "  thisplot[true_label].set_color('blue')"
   ]
  },
  {
   "cell_type": "markdown",
   "metadata": {
    "id": "Zh9yABaME29S"
   },
   "source": [
    "### Verify predictions\n",
    "\n",
    "With the model trained, you can use it to make predictions about some images."
   ]
  },
  {
   "cell_type": "markdown",
   "metadata": {
    "id": "d4Ov9OFDMmOD"
   },
   "source": [
    "Let's look at the 0th image, predictions, and prediction array. Correct prediction labels are blue and incorrect prediction labels are red. The number gives the percentage (out of 100) for the predicted label."
   ]
  },
  {
   "cell_type": "code",
   "execution_count": 27,
   "metadata": {
    "ExecuteTime": {
     "end_time": "2021-11-19T02:48:16.253581Z",
     "start_time": "2021-11-19T02:48:16.159555Z"
    },
    "execution": {
     "iopub.execute_input": "2021-06-19T02:11:15.692032Z",
     "iopub.status.busy": "2021-06-19T02:11:15.691436Z",
     "iopub.status.idle": "2021-06-19T02:11:15.795288Z",
     "shell.execute_reply": "2021-06-19T02:11:15.794835Z"
    },
    "id": "HV5jw-5HwSmO"
   },
   "outputs": [
    {
     "data": {
      "image/png": "[encoded data removed]",
      "text/plain": [
       "<Figure size 432x216 with 2 Axes>"
      ]
     },
     "metadata": {
      "needs_background": "light"
     },
     "output_type": "display_data"
    }
   ],
   "source": [
    "i = 0\n",
    "plt.figure(figsize=(6,3))\n",
    "plt.subplot(1,2,1)\n",
    "plot_image(i, predictions[i], test_labels, test_images)\n",
    "plt.subplot(1,2,2)\n",
    "plot_value_array(i, predictions[i],  test_labels)\n",
    "plt.show()"
   ]
  },
  {
   "cell_type": "code",
   "execution_count": 28,
   "metadata": {
    "ExecuteTime": {
     "end_time": "2021-11-19T02:48:19.197555Z",
     "start_time": "2021-11-19T02:48:19.094559Z"
    },
    "execution": {
     "iopub.execute_input": "2021-06-19T02:11:15.842965Z",
     "iopub.status.busy": "2021-06-19T02:11:15.840945Z",
     "iopub.status.idle": "2021-06-19T02:11:15.910842Z",
     "shell.execute_reply": "2021-06-19T02:11:15.910442Z"
    },
    "id": "Ko-uzOufSCSe"
   },
   "outputs": [
    {
     "data": {
      "image/png": "[encoded data removed]",
      "text/plain": [
       "<Figure size 432x216 with 2 Axes>"
      ]
     },
     "metadata": {
      "needs_background": "light"
     },
     "output_type": "display_data"
    }
   ],
   "source": [
    "i = 12\n",
    "plt.figure(figsize=(6,3))\n",
    "plt.subplot(1,2,1)\n",
    "plot_image(i, predictions[i], test_labels, test_images)\n",
    "plt.subplot(1,2,2)\n",
    "plot_value_array(i, predictions[i],  test_labels)\n",
    "plt.show()"
   ]
  },
  {
   "cell_type": "markdown",
   "metadata": {
    "id": "kgdvGD52CaXR"
   },
   "source": [
    "Let's plot several images with their predictions. Note that the model can be wrong even when very confident."
   ]
  },
  {
   "cell_type": "code",
   "execution_count": 29,
   "metadata": {
    "ExecuteTime": {
     "end_time": "2021-11-19T02:48:22.607556Z",
     "start_time": "2021-11-19T02:48:21.246557Z"
    },
    "execution": {
     "iopub.execute_input": "2021-06-19T02:11:15.960460Z",
     "iopub.status.busy": "2021-06-19T02:11:15.957592Z",
     "iopub.status.idle": "2021-06-19T02:11:17.665634Z",
     "shell.execute_reply": "2021-06-19T02:11:17.666004Z"
    },
    "id": "hQlnbqaw2Qu_"
   },
   "outputs": [
    {
     "data": {
      "image/png": "[encoded data removed]",
      "text/plain": [
       "<Figure size 864x720 with 30 Axes>"
      ]
     },
     "metadata": {
      "needs_background": "light"
     },
     "output_type": "display_data"
    }
   ],
   "source": [
    "# Plot the first X test images, their predicted labels, and the true labels.\n",
    "# Color correct predictions in blue and incorrect predictions in red.\n",
    "num_rows = 5\n",
    "num_cols = 3\n",
    "num_images = num_rows*num_cols\n",
    "plt.figure(figsize=(2*2*num_cols, 2*num_rows))\n",
    "for i in range(num_images):\n",
    "  plt.subplot(num_rows, 2*num_cols, 2*i+1)\n",
    "  plot_image(i, predictions[i], test_labels, test_images)\n",
    "  plt.subplot(num_rows, 2*num_cols, 2*i+2)\n",
    "  plot_value_array(i, predictions[i], test_labels)\n",
    "plt.tight_layout()\n",
    "plt.show()"
   ]
  },
  {
   "cell_type": "markdown",
   "metadata": {
    "id": "R32zteKHCaXT"
   },
   "source": [
    "## Use the trained model\n",
    "\n",
    "Finally, use the trained model to make a prediction about a single image."
   ]
  },
  {
   "cell_type": "code",
   "execution_count": 30,
   "metadata": {
    "ExecuteTime": {
     "end_time": "2021-11-19T02:48:32.492193Z",
     "start_time": "2021-11-19T02:48:32.479164Z"
    },
    "execution": {
     "iopub.execute_input": "2021-06-19T02:11:17.670060Z",
     "iopub.status.busy": "2021-06-19T02:11:17.669499Z",
     "iopub.status.idle": "2021-06-19T02:11:17.671843Z",
     "shell.execute_reply": "2021-06-19T02:11:17.671427Z"
    },
    "id": "yRJ7JU7JCaXT"
   },
   "outputs": [
    {
     "name": "stdout",
     "output_type": "stream",
     "text": [
      "(28, 28)\n"
     ]
    }
   ],
   "source": [
    "# Grab an image from the test dataset.\n",
    "img = test_images[1]\n",
    "\n",
    "print(img.shape)"
   ]
  },
  {
   "cell_type": "markdown",
   "metadata": {
    "id": "vz3bVp21CaXV"
   },
   "source": [
    "`tf.keras` models are optimized to make predictions on a *batch*, or collection, of examples at once. Accordingly, even though you're using a single image, you need to add it to a list:"
   ]
  },
  {
   "cell_type": "code",
   "execution_count": 31,
   "metadata": {
    "ExecuteTime": {
     "end_time": "2021-11-19T02:48:42.418541Z",
     "start_time": "2021-11-19T02:48:42.407542Z"
    },
    "execution": {
     "iopub.execute_input": "2021-06-19T02:11:17.675565Z",
     "iopub.status.busy": "2021-06-19T02:11:17.675010Z",
     "iopub.status.idle": "2021-06-19T02:11:17.677236Z",
     "shell.execute_reply": "2021-06-19T02:11:17.676836Z"
    },
    "id": "lDFh5yF_CaXW"
   },
   "outputs": [
    {
     "name": "stdout",
     "output_type": "stream",
     "text": [
      "(1, 28, 28)\n"
     ]
    }
   ],
   "source": [
    "# Add the image to a batch where it's the only member.\n",
    "img = (np.expand_dims(img,0))\n",
    "\n",
    "print(img.shape)"
   ]
  },
  {
   "cell_type": "markdown",
   "metadata": {
    "id": "EQ5wLTkcCaXY"
   },
   "source": [
    "Now predict the correct label for this image:"
   ]
  },
  {
   "cell_type": "code",
   "execution_count": 32,
   "metadata": {
    "ExecuteTime": {
     "end_time": "2021-11-19T02:48:44.169192Z",
     "start_time": "2021-11-19T02:48:43.568194Z"
    },
    "execution": {
     "iopub.execute_input": "2021-06-19T02:11:17.681330Z",
     "iopub.status.busy": "2021-06-19T02:11:17.680783Z",
     "iopub.status.idle": "2021-06-19T02:11:17.714081Z",
     "shell.execute_reply": "2021-06-19T02:11:17.714414Z"
    },
    "id": "o_rzNSdrCaXY"
   },
   "outputs": [
    {
     "name": "stdout",
     "output_type": "stream",
     "text": [
      "[[1.7118024e-05 7.3402249e-13 9.9890041e-01 3.8313801e-09 6.1980732e-05\n",
      "  3.4764932e-14 1.0204862e-03 3.3887601e-17 3.1457545e-11 2.2236541e-13]]\n"
     ]
    }
   ],
   "source": [
    "predictions_single = probability_model.predict(img)\n",
    "\n",
    "print(predictions_single)"
   ]
  },
  {
   "cell_type": "code",
   "execution_count": 33,
   "metadata": {
    "ExecuteTime": {
     "end_time": "2021-11-19T02:48:51.779147Z",
     "start_time": "2021-11-19T02:48:51.704145Z"
    },
    "execution": {
     "iopub.execute_input": "2021-06-19T02:11:17.744438Z",
     "iopub.status.busy": "2021-06-19T02:11:17.730177Z",
     "iopub.status.idle": "2021-06-19T02:11:17.803813Z",
     "shell.execute_reply": "2021-06-19T02:11:17.803398Z"
    },
    "id": "6Ai-cpLjO-3A"
   },
   "outputs": [
    {
     "data": {
      "image/png": "[encoded data removed]",
      "text/plain": [
       "<Figure size 432x288 with 1 Axes>"
      ]
     },
     "metadata": {
      "needs_background": "light"
     },
     "output_type": "display_data"
    }
   ],
   "source": [
    "plot_value_array(1, predictions_single[0], test_labels)\n",
    "_ = plt.xticks(range(10), class_names, rotation=45)\n",
    "plt.show()"
   ]
  },
  {
   "cell_type": "markdown",
   "metadata": {
    "id": "cU1Y2OAMCaXb"
   },
   "source": [
    "`tf.keras.Model.predict` returns a list of lists—one list for each image in the batch of data. Grab the predictions for our (only) image in the batch:"
   ]
  },
  {
   "cell_type": "code",
   "execution_count": 34,
   "metadata": {
    "ExecuteTime": {
     "end_time": "2021-11-19T02:48:54.710886Z",
     "start_time": "2021-11-19T02:48:54.701887Z"
    },
    "execution": {
     "iopub.execute_input": "2021-06-19T02:11:17.807659Z",
     "iopub.status.busy": "2021-06-19T02:11:17.807087Z",
     "iopub.status.idle": "2021-06-19T02:11:17.809285Z",
     "shell.execute_reply": "2021-06-19T02:11:17.809608Z"
    },
    "id": "2tRmdq_8CaXb"
   },
   "outputs": [
    {
     "data": {
      "text/plain": [
       "2"
      ]
     },
     "execution_count": 34,
     "metadata": {},
     "output_type": "execute_result"
    }
   ],
   "source": [
    "np.argmax(predictions_single[0])"
   ]
  },
  {
   "cell_type": "markdown",
   "metadata": {
    "id": "YFc2HbEVCaXd"
   },
   "source": [
    "And the model predicts a label as expected."
   ]
  }
 ],
 "metadata": {
  "colab": {
   "collapsed_sections": [],
   "name": "classification.ipynb",
   "toc_visible": true
  },
  "kernelspec": {
   "display_name": "Python 3",
   "language": "python",
   "name": "python3"
  },
  "language_info": {
   "codemirror_mode": {
    "name": "ipython",
    "version": 3
   },
   "file_extension": ".py",
   "mimetype": "text/x-python",
   "name": "python",
   "nbconvert_exporter": "python",
   "pygments_lexer": "ipython3",
   "version": "3.7.9"
  },
  "toc": {
   "base_numbering": 1,
   "nav_menu": {},
   "number_sections": true,
   "sideBar": true,
   "skip_h1_title": false,
   "title_cell": "Table of Contents",
   "title_sidebar": "Contents",
   "toc_cell": true,
   "toc_position": {},
   "toc_section_display": true,
   "toc_window_display": false
  }
 },
 "nbformat": 4,
 "nbformat_minor": 1
}
